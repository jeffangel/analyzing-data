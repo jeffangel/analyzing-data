{
 "cells": [
  {
   "cell_type": "code",
   "execution_count": 1,
   "id": "06891e3d",
   "metadata": {
    "_cell_guid": "b1076dfc-b9ad-4769-8c92-a6c4dae69d19",
    "_uuid": "8f2839f25d086af736a60e9eeb907d3b93b6e0e5",
    "execution": {
     "iopub.execute_input": "2024-06-26T17:15:45.114903Z",
     "iopub.status.busy": "2024-06-26T17:15:45.113729Z",
     "iopub.status.idle": "2024-06-26T17:15:47.286476Z",
     "shell.execute_reply": "2024-06-26T17:15:47.285494Z"
    },
    "papermill": {
     "duration": 2.183485,
     "end_time": "2024-06-26T17:15:47.289205",
     "exception": false,
     "start_time": "2024-06-26T17:15:45.105720",
     "status": "completed"
    },
    "tags": []
   },
   "outputs": [],
   "source": [
    "import os\n",
    "\n",
    "import numpy as np\n",
    "import pandas as pd \n",
    "import numpy.linalg as la\n",
    "import seaborn as sns\n",
    "import matplotlib.pyplot as plt"
   ]
  },
  {
   "cell_type": "markdown",
   "id": "cf77c1e0",
   "metadata": {
    "papermill": {
     "duration": 0.005416,
     "end_time": "2024-06-26T17:15:47.300422",
     "exception": false,
     "start_time": "2024-06-26T17:15:47.295006",
     "status": "completed"
    },
    "tags": []
   },
   "source": [
    "#### Setting general variables"
   ]
  },
  {
   "cell_type": "code",
   "execution_count": 2,
   "id": "c1672d17",
   "metadata": {
    "execution": {
     "iopub.execute_input": "2024-06-26T17:15:47.312774Z",
     "iopub.status.busy": "2024-06-26T17:15:47.312281Z",
     "iopub.status.idle": "2024-06-26T17:15:47.317487Z",
     "shell.execute_reply": "2024-06-26T17:15:47.316409Z"
    },
    "papermill": {
     "duration": 0.014013,
     "end_time": "2024-06-26T17:15:47.319758",
     "exception": false,
     "start_time": "2024-06-26T17:15:47.305745",
     "status": "completed"
    },
    "tags": []
   },
   "outputs": [],
   "source": [
    "file_path_source = '/kaggle/input/us-cities-states-countries/us_cities_states_counties.csv'\n",
    "header_row_number = 0\n",
    "delimiter = \"|\"\n",
    "column_header = 'State full'\n",
    "city = \"Florida\"\n",
    "data_row_number = 1"
   ]
  },
  {
   "cell_type": "markdown",
   "id": "d511f71d",
   "metadata": {
    "papermill": {
     "duration": 0.005176,
     "end_time": "2024-06-26T17:15:47.331049",
     "exception": false,
     "start_time": "2024-06-26T17:15:47.325873",
     "status": "completed"
    },
    "tags": []
   },
   "source": [
    "#### Counting Florida coincidences with Python"
   ]
  },
  {
   "cell_type": "code",
   "execution_count": 3,
   "id": "4f53411d",
   "metadata": {
    "execution": {
     "iopub.execute_input": "2024-06-26T17:15:47.343636Z",
     "iopub.status.busy": "2024-06-26T17:15:47.343271Z",
     "iopub.status.idle": "2024-06-26T17:15:47.433999Z",
     "shell.execute_reply": "2024-06-26T17:15:47.432689Z"
    },
    "papermill": {
     "duration": 0.100021,
     "end_time": "2024-06-26T17:15:47.436534",
     "exception": false,
     "start_time": "2024-06-26T17:15:47.336513",
     "status": "completed"
    },
    "tags": []
   },
   "outputs": [
    {
     "name": "stdout",
     "output_type": "stream",
     "text": [
      "En total se registran 1400 ciudades pertenecientes a Florida según el archivo fuente.\n"
     ]
    }
   ],
   "source": [
    "with open(file_path_source) as mycsv:\n",
    "    counter = 0\n",
    "    content = mycsv.readlines()\n",
    "    header = content[header_row_number].strip().split(delimiter)\n",
    "    state_index = header.index(column_header)\n",
    "    rows = content[data_row_number:]\n",
    "    for row in rows:\n",
    "        values = row.strip().split(delimiter)\n",
    "        if city in values[state_index]:\n",
    "            counter +=1            \n",
    "        \n",
    "print(f\"En total se registran {counter} ciudades pertenecientes a Florida según el archivo fuente.\")"
   ]
  },
  {
   "cell_type": "markdown",
   "id": "171dbc15",
   "metadata": {
    "papermill": {
     "duration": 0.00527,
     "end_time": "2024-06-26T17:15:47.447469",
     "exception": false,
     "start_time": "2024-06-26T17:15:47.442199",
     "status": "completed"
    },
    "tags": []
   },
   "source": [
    "#### Counting Florida coincidences with Python through Pandas"
   ]
  },
  {
   "cell_type": "code",
   "execution_count": 4,
   "id": "2f171eb6",
   "metadata": {
    "execution": {
     "iopub.execute_input": "2024-06-26T17:15:47.460192Z",
     "iopub.status.busy": "2024-06-26T17:15:47.459825Z",
     "iopub.status.idle": "2024-06-26T17:15:47.573844Z",
     "shell.execute_reply": "2024-06-26T17:15:47.572583Z"
    },
    "papermill": {
     "duration": 0.123207,
     "end_time": "2024-06-26T17:15:47.576287",
     "exception": false,
     "start_time": "2024-06-26T17:15:47.453080",
     "status": "completed"
    },
    "tags": []
   },
   "outputs": [
    {
     "name": "stdout",
     "output_type": "stream",
     "text": [
      "En total se registran 1400 ciudades pertenecientes a Florida según el archivo fuente.\n"
     ]
    }
   ],
   "source": [
    "import pandas as pd\n",
    "df = pd.read_csv(file_path_source,delimiter=delimiter)\n",
    "df = df[df[column_header] == city]\n",
    "print(f\"En total se registran {len(df)} ciudades pertenecientes a Florida según el archivo fuente.\")"
   ]
  },
  {
   "cell_type": "markdown",
   "id": "7916c00d",
   "metadata": {
    "papermill": {
     "duration": 0.005355,
     "end_time": "2024-06-26T17:15:47.587287",
     "exception": false,
     "start_time": "2024-06-26T17:15:47.581932",
     "status": "completed"
    },
    "tags": []
   },
   "source": [
    "#### Working with Numpy"
   ]
  },
  {
   "cell_type": "code",
   "execution_count": 5,
   "id": "6370ea23",
   "metadata": {
    "execution": {
     "iopub.execute_input": "2024-06-26T17:15:47.600627Z",
     "iopub.status.busy": "2024-06-26T17:15:47.600241Z",
     "iopub.status.idle": "2024-06-26T17:15:47.611752Z",
     "shell.execute_reply": "2024-06-26T17:15:47.610682Z"
    },
    "papermill": {
     "duration": 0.02276,
     "end_time": "2024-06-26T17:15:47.615631",
     "exception": false,
     "start_time": "2024-06-26T17:15:47.592871",
     "status": "completed"
    },
    "tags": []
   },
   "outputs": [
    {
     "name": "stdout",
     "output_type": "stream",
     "text": [
      "Matriz de ejemplo: \n",
      " [[ 26  98  98  11  83  53  17  94  87  29  81  84  44  24  39  78]\n",
      " [ 40  27  46  96  42  84  24  55  46  34  35  15  32  81  91  38]\n",
      " [ 11  68  51  29  80  63  92  86   7  84  42  32  18  21  69  20]\n",
      " [ 28  61  75  76   2   1  26  17  51  77  85  29  67  97  17  17]\n",
      " [  8  72  93  76  23  59   3   8  31  98  97  39  66  85   3   0]\n",
      " [  4  53  79  76  98  31  44  90  52  57  93  25  59  52  27  86]\n",
      " [ 12  95  82  39   3  34  64  32  98  19  96  28  96  95  64  63]\n",
      " [ 67  24  60  26   1  49  21  62  35  67  16  52  48   9  67  57]\n",
      " [ 52  15  86  95  45   4  74  96  70  42  43  27  78   8  85  72]\n",
      " [ 23  78  32  93  37  63  84  26  21   1  31  37  51  55 100  59]\n",
      " [ 14  79  97  32  91  96  99  66  50  12  38   0  55  25  64  93]\n",
      " [ 76  38  48  99  70  11  30  49  29  24  85   8  15  21  13  27]\n",
      " [ 25  51  27  12  30  14  24  97  85  96  96  68  99  35  49  53]\n",
      " [ 20   6  74  52  61  65  32  26  55  51  83  16  46  93  91  22]\n",
      " [ 46  53   5  44  33   2  28   8  74   8  67  85  20  62  10  54]\n",
      " [ 45  91  24  14  66  51  57  60  91  34  36  74   0  80  25  52]] \n",
      "\n",
      "El valor de la suma total de la fila 1 es 946\n",
      "El valor del promedio de la fila 1 es 59.125\n",
      "El valor mínimo de la fila 1 es 11\n",
      "El valor máximo de la fila 1 es 98\n",
      "\n",
      "El valor de la suma total de la fila 2 es 786\n",
      "El valor del promedio de la fila 2 es 49.125\n",
      "El valor mínimo de la fila 2 es 15\n",
      "El valor máximo de la fila 2 es 96\n",
      "\n",
      "El valor de la suma total de la fila 3 es 773\n",
      "El valor del promedio de la fila 3 es 48.3125\n",
      "El valor mínimo de la fila 3 es 7\n",
      "El valor máximo de la fila 3 es 92\n",
      "\n",
      "El valor de la suma total de la fila 4 es 726\n",
      "El valor del promedio de la fila 4 es 45.375\n",
      "El valor mínimo de la fila 4 es 1\n",
      "El valor máximo de la fila 4 es 97\n",
      "\n",
      "El valor de la suma total de la fila 5 es 761\n",
      "El valor del promedio de la fila 5 es 47.5625\n",
      "El valor mínimo de la fila 5 es 0\n",
      "El valor máximo de la fila 5 es 98\n",
      "\n",
      "El valor de la suma total de la fila 6 es 926\n",
      "El valor del promedio de la fila 6 es 57.875\n",
      "El valor mínimo de la fila 6 es 4\n",
      "El valor máximo de la fila 6 es 98\n",
      "\n",
      "El valor de la suma total de la fila 7 es 920\n",
      "El valor del promedio de la fila 7 es 57.5\n",
      "El valor mínimo de la fila 7 es 3\n",
      "El valor máximo de la fila 7 es 98\n",
      "\n",
      "El valor de la suma total de la fila 8 es 661\n",
      "El valor del promedio de la fila 8 es 41.3125\n",
      "El valor mínimo de la fila 8 es 1\n",
      "El valor máximo de la fila 8 es 67\n",
      "\n",
      "El valor de la suma total de la fila 9 es 892\n",
      "El valor del promedio de la fila 9 es 55.75\n",
      "El valor mínimo de la fila 9 es 4\n",
      "El valor máximo de la fila 9 es 96\n",
      "\n",
      "El valor de la suma total de la fila 10 es 791\n",
      "El valor del promedio de la fila 10 es 49.4375\n",
      "El valor mínimo de la fila 10 es 1\n",
      "El valor máximo de la fila 10 es 100\n",
      "\n",
      "El valor de la suma total de la fila 11 es 911\n",
      "El valor del promedio de la fila 11 es 56.9375\n",
      "El valor mínimo de la fila 11 es 0\n",
      "El valor máximo de la fila 11 es 99\n",
      "\n",
      "El valor de la suma total de la fila 12 es 643\n",
      "El valor del promedio de la fila 12 es 40.1875\n",
      "El valor mínimo de la fila 12 es 8\n",
      "El valor máximo de la fila 12 es 99\n",
      "\n",
      "El valor de la suma total de la fila 13 es 861\n",
      "El valor del promedio de la fila 13 es 53.8125\n",
      "El valor mínimo de la fila 13 es 12\n",
      "El valor máximo de la fila 13 es 99\n",
      "\n",
      "El valor de la suma total de la fila 14 es 793\n",
      "El valor del promedio de la fila 14 es 49.5625\n",
      "El valor mínimo de la fila 14 es 6\n",
      "El valor máximo de la fila 14 es 93\n",
      "\n",
      "El valor de la suma total de la fila 15 es 599\n",
      "El valor del promedio de la fila 15 es 37.4375\n",
      "El valor mínimo de la fila 15 es 2\n",
      "El valor máximo de la fila 15 es 85\n",
      "\n",
      "El valor de la suma total de la fila 16 es 800\n",
      "El valor del promedio de la fila 16 es 50.0\n",
      "El valor mínimo de la fila 16 es 0\n",
      "El valor máximo de la fila 16 es 91\n",
      "\n"
     ]
    }
   ],
   "source": [
    "rand_matrix = np.random.randint(0,101, size=(16,16))\n",
    "print(f'Matriz de ejemplo: \\n {rand_matrix} \\n')\n",
    "\n",
    "for i in range(16):\n",
    "    print(f\"El valor de la suma total de la fila {i+1} es {np.sum(rand_matrix, axis=1)[i]}\")\n",
    "    print(f\"El valor del promedio de la fila {i+1} es {np.mean(rand_matrix, axis=1)[i]}\")\n",
    "    print(f\"El valor mínimo de la fila {i+1} es {np.min(rand_matrix, axis=1)[i]}\")\n",
    "    print(f\"El valor máximo de la fila {i+1} es {np.max(rand_matrix, axis=1)[i]}\\n\")"
   ]
  },
  {
   "cell_type": "markdown",
   "id": "b982206e",
   "metadata": {
    "papermill": {
     "duration": 0.005547,
     "end_time": "2024-06-26T17:15:47.627080",
     "exception": false,
     "start_time": "2024-06-26T17:15:47.621533",
     "status": "completed"
    },
    "tags": []
   },
   "source": [
    "#### Solving math problems\n",
    "- Mathematical equation system\n",
    "    - $ A : \\begin{cases} -9y +  4x = 20 \\\\ -7y + 16x = 80                         \\end{cases}$\n",
    "    \n",
    "    - $ B : \\begin{cases} x - 2y + 3z = 7 \\\\ 2x + y + z = 4 \\\\ -3x + 2y -2z = -10 \\end{cases}$"
   ]
  },
  {
   "cell_type": "code",
   "execution_count": 6,
   "id": "2ef0380e",
   "metadata": {
    "execution": {
     "iopub.execute_input": "2024-06-26T17:15:47.641193Z",
     "iopub.status.busy": "2024-06-26T17:15:47.640356Z",
     "iopub.status.idle": "2024-06-26T17:15:47.650862Z",
     "shell.execute_reply": "2024-06-26T17:15:47.649692Z"
    },
    "papermill": {
     "duration": 0.020847,
     "end_time": "2024-06-26T17:15:47.653944",
     "exception": false,
     "start_time": "2024-06-26T17:15:47.633097",
     "status": "completed"
    },
    "tags": []
   },
   "outputs": [
    {
     "name": "stdout",
     "output_type": "stream",
     "text": [
      "El valor de la variable X e Y en el primer sistema de ecuaciones son respectivamente 5.0, -0.0\n",
      "El valor de la variable X, Y y Z en el segundo sistema de ecuaciones son respectivamente 2.0, -0.9999999999999998, 1.0000000000000002\n"
     ]
    }
   ],
   "source": [
    "equation_A, results_A = [[-9,4],[-7,16]], [20,80]\n",
    "solution_A = la.solve(equation_A, results_A)\n",
    "print(f\"El valor de la variable X e Y en el primer sistema de ecuaciones son respectivamente {solution_A[1]}, {solution_A[0]}\")\n",
    "\n",
    "equation_B, results_B = [[1,-2,3],[2,1,1],[-3,2,-2]], [7,4,-10]\n",
    "solution_B = la.solve(equation_B, results_B)\n",
    "print(f\"El valor de la variable X, Y y Z en el segundo sistema de ecuaciones son respectivamente {solution_B[0]}, {solution_B[1]}, {solution_B[2]}\")"
   ]
  },
  {
   "cell_type": "markdown",
   "id": "f3acc04a",
   "metadata": {
    "papermill": {
     "duration": 0.005742,
     "end_time": "2024-06-26T17:15:47.666630",
     "exception": false,
     "start_time": "2024-06-26T17:15:47.660888",
     "status": "completed"
    },
    "tags": []
   },
   "source": [
    "#### Working with pandas and random sample dataframe"
   ]
  },
  {
   "cell_type": "code",
   "execution_count": 7,
   "id": "9f76ff78",
   "metadata": {
    "execution": {
     "iopub.execute_input": "2024-06-26T17:15:47.680367Z",
     "iopub.status.busy": "2024-06-26T17:15:47.679991Z",
     "iopub.status.idle": "2024-06-26T17:15:47.731236Z",
     "shell.execute_reply": "2024-06-26T17:15:47.729999Z"
    },
    "papermill": {
     "duration": 0.061086,
     "end_time": "2024-06-26T17:15:47.733845",
     "exception": false,
     "start_time": "2024-06-26T17:15:47.672759",
     "status": "completed"
    },
    "tags": []
   },
   "outputs": [
    {
     "name": "stdout",
     "output_type": "stream",
     "text": [
      "Matriz de ejemplo: \n",
      " [[ 5 13  0  7 11  7  6 19  9  8]\n",
      " [20 14  4  4 20 20  6  6  0  2]\n",
      " [15 18  4  9 10  8  8  8  7 12]\n",
      " [ 9  8  2  6  5  3 16  0  1 17]\n",
      " [ 6  7  7  2 18  2 14 17 17  3]\n",
      " [ 0  7  7  0  3  5  7  4 12  9]\n",
      " [ 8 19 11 20 12  0 14 17  1  1]\n",
      " [ 8 14  8  5 19  7  5 19  8 12]\n",
      " [14 20  2  0 19  2  4  5 15  4]\n",
      " [20 14  0  8 20 11 19  6  8  2]] \n",
      "\n"
     ]
    },
    {
     "data": {
      "text/html": [
       "<div>\n",
       "<style scoped>\n",
       "    .dataframe tbody tr th:only-of-type {\n",
       "        vertical-align: middle;\n",
       "    }\n",
       "\n",
       "    .dataframe tbody tr th {\n",
       "        vertical-align: top;\n",
       "    }\n",
       "\n",
       "    .dataframe thead th {\n",
       "        text-align: right;\n",
       "    }\n",
       "</style>\n",
       "<table border=\"1\" class=\"dataframe\">\n",
       "  <thead>\n",
       "    <tr style=\"text-align: right;\">\n",
       "      <th></th>\n",
       "      <th>0</th>\n",
       "      <th>1</th>\n",
       "      <th>2</th>\n",
       "      <th>3</th>\n",
       "      <th>4</th>\n",
       "      <th>5</th>\n",
       "      <th>6</th>\n",
       "      <th>7</th>\n",
       "      <th>8</th>\n",
       "      <th>9</th>\n",
       "    </tr>\n",
       "  </thead>\n",
       "  <tbody>\n",
       "    <tr>\n",
       "      <th>0</th>\n",
       "      <td>5</td>\n",
       "      <td>13</td>\n",
       "      <td>0</td>\n",
       "      <td>7</td>\n",
       "      <td>11</td>\n",
       "      <td>7</td>\n",
       "      <td>6</td>\n",
       "      <td>19</td>\n",
       "      <td>9</td>\n",
       "      <td>8</td>\n",
       "    </tr>\n",
       "    <tr>\n",
       "      <th>1</th>\n",
       "      <td>20</td>\n",
       "      <td>14</td>\n",
       "      <td>4</td>\n",
       "      <td>4</td>\n",
       "      <td>20</td>\n",
       "      <td>20</td>\n",
       "      <td>6</td>\n",
       "      <td>6</td>\n",
       "      <td>0</td>\n",
       "      <td>2</td>\n",
       "    </tr>\n",
       "    <tr>\n",
       "      <th>2</th>\n",
       "      <td>15</td>\n",
       "      <td>18</td>\n",
       "      <td>4</td>\n",
       "      <td>9</td>\n",
       "      <td>10</td>\n",
       "      <td>8</td>\n",
       "      <td>8</td>\n",
       "      <td>8</td>\n",
       "      <td>7</td>\n",
       "      <td>12</td>\n",
       "    </tr>\n",
       "    <tr>\n",
       "      <th>3</th>\n",
       "      <td>9</td>\n",
       "      <td>8</td>\n",
       "      <td>2</td>\n",
       "      <td>6</td>\n",
       "      <td>5</td>\n",
       "      <td>3</td>\n",
       "      <td>16</td>\n",
       "      <td>0</td>\n",
       "      <td>1</td>\n",
       "      <td>17</td>\n",
       "    </tr>\n",
       "    <tr>\n",
       "      <th>4</th>\n",
       "      <td>6</td>\n",
       "      <td>7</td>\n",
       "      <td>7</td>\n",
       "      <td>2</td>\n",
       "      <td>18</td>\n",
       "      <td>2</td>\n",
       "      <td>14</td>\n",
       "      <td>17</td>\n",
       "      <td>17</td>\n",
       "      <td>3</td>\n",
       "    </tr>\n",
       "    <tr>\n",
       "      <th>5</th>\n",
       "      <td>0</td>\n",
       "      <td>7</td>\n",
       "      <td>7</td>\n",
       "      <td>0</td>\n",
       "      <td>3</td>\n",
       "      <td>5</td>\n",
       "      <td>7</td>\n",
       "      <td>4</td>\n",
       "      <td>12</td>\n",
       "      <td>9</td>\n",
       "    </tr>\n",
       "    <tr>\n",
       "      <th>6</th>\n",
       "      <td>8</td>\n",
       "      <td>19</td>\n",
       "      <td>11</td>\n",
       "      <td>20</td>\n",
       "      <td>12</td>\n",
       "      <td>0</td>\n",
       "      <td>14</td>\n",
       "      <td>17</td>\n",
       "      <td>1</td>\n",
       "      <td>1</td>\n",
       "    </tr>\n",
       "    <tr>\n",
       "      <th>7</th>\n",
       "      <td>8</td>\n",
       "      <td>14</td>\n",
       "      <td>8</td>\n",
       "      <td>5</td>\n",
       "      <td>19</td>\n",
       "      <td>7</td>\n",
       "      <td>5</td>\n",
       "      <td>19</td>\n",
       "      <td>8</td>\n",
       "      <td>12</td>\n",
       "    </tr>\n",
       "    <tr>\n",
       "      <th>8</th>\n",
       "      <td>14</td>\n",
       "      <td>20</td>\n",
       "      <td>2</td>\n",
       "      <td>0</td>\n",
       "      <td>19</td>\n",
       "      <td>2</td>\n",
       "      <td>4</td>\n",
       "      <td>5</td>\n",
       "      <td>15</td>\n",
       "      <td>4</td>\n",
       "    </tr>\n",
       "    <tr>\n",
       "      <th>9</th>\n",
       "      <td>20</td>\n",
       "      <td>14</td>\n",
       "      <td>0</td>\n",
       "      <td>8</td>\n",
       "      <td>20</td>\n",
       "      <td>11</td>\n",
       "      <td>19</td>\n",
       "      <td>6</td>\n",
       "      <td>8</td>\n",
       "      <td>2</td>\n",
       "    </tr>\n",
       "  </tbody>\n",
       "</table>\n",
       "</div>"
      ],
      "text/plain": [
       "    0   1   2   3   4   5   6   7   8   9\n",
       "0   5  13   0   7  11   7   6  19   9   8\n",
       "1  20  14   4   4  20  20   6   6   0   2\n",
       "2  15  18   4   9  10   8   8   8   7  12\n",
       "3   9   8   2   6   5   3  16   0   1  17\n",
       "4   6   7   7   2  18   2  14  17  17   3\n",
       "5   0   7   7   0   3   5   7   4  12   9\n",
       "6   8  19  11  20  12   0  14  17   1   1\n",
       "7   8  14   8   5  19   7   5  19   8  12\n",
       "8  14  20   2   0  19   2   4   5  15   4\n",
       "9  20  14   0   8  20  11  19   6   8   2"
      ]
     },
     "metadata": {},
     "output_type": "display_data"
    },
    {
     "name": "stdout",
     "output_type": "stream",
     "text": [
      "Cambiando valores menores a 5 por valores null\n"
     ]
    },
    {
     "data": {
      "text/html": [
       "<div>\n",
       "<style scoped>\n",
       "    .dataframe tbody tr th:only-of-type {\n",
       "        vertical-align: middle;\n",
       "    }\n",
       "\n",
       "    .dataframe tbody tr th {\n",
       "        vertical-align: top;\n",
       "    }\n",
       "\n",
       "    .dataframe thead th {\n",
       "        text-align: right;\n",
       "    }\n",
       "</style>\n",
       "<table border=\"1\" class=\"dataframe\">\n",
       "  <thead>\n",
       "    <tr style=\"text-align: right;\">\n",
       "      <th></th>\n",
       "      <th>0</th>\n",
       "      <th>1</th>\n",
       "      <th>2</th>\n",
       "      <th>3</th>\n",
       "      <th>4</th>\n",
       "      <th>5</th>\n",
       "      <th>6</th>\n",
       "      <th>7</th>\n",
       "      <th>8</th>\n",
       "      <th>9</th>\n",
       "    </tr>\n",
       "  </thead>\n",
       "  <tbody>\n",
       "    <tr>\n",
       "      <th>0</th>\n",
       "      <td>NaN</td>\n",
       "      <td>13</td>\n",
       "      <td>NaN</td>\n",
       "      <td>7.0</td>\n",
       "      <td>11.0</td>\n",
       "      <td>7.0</td>\n",
       "      <td>6.0</td>\n",
       "      <td>19.0</td>\n",
       "      <td>9.0</td>\n",
       "      <td>8.0</td>\n",
       "    </tr>\n",
       "    <tr>\n",
       "      <th>1</th>\n",
       "      <td>20.0</td>\n",
       "      <td>14</td>\n",
       "      <td>NaN</td>\n",
       "      <td>NaN</td>\n",
       "      <td>20.0</td>\n",
       "      <td>20.0</td>\n",
       "      <td>6.0</td>\n",
       "      <td>6.0</td>\n",
       "      <td>NaN</td>\n",
       "      <td>NaN</td>\n",
       "    </tr>\n",
       "    <tr>\n",
       "      <th>2</th>\n",
       "      <td>15.0</td>\n",
       "      <td>18</td>\n",
       "      <td>NaN</td>\n",
       "      <td>9.0</td>\n",
       "      <td>10.0</td>\n",
       "      <td>8.0</td>\n",
       "      <td>8.0</td>\n",
       "      <td>8.0</td>\n",
       "      <td>7.0</td>\n",
       "      <td>12.0</td>\n",
       "    </tr>\n",
       "    <tr>\n",
       "      <th>3</th>\n",
       "      <td>9.0</td>\n",
       "      <td>8</td>\n",
       "      <td>NaN</td>\n",
       "      <td>6.0</td>\n",
       "      <td>NaN</td>\n",
       "      <td>NaN</td>\n",
       "      <td>16.0</td>\n",
       "      <td>NaN</td>\n",
       "      <td>NaN</td>\n",
       "      <td>17.0</td>\n",
       "    </tr>\n",
       "    <tr>\n",
       "      <th>4</th>\n",
       "      <td>6.0</td>\n",
       "      <td>7</td>\n",
       "      <td>7.0</td>\n",
       "      <td>NaN</td>\n",
       "      <td>18.0</td>\n",
       "      <td>NaN</td>\n",
       "      <td>14.0</td>\n",
       "      <td>17.0</td>\n",
       "      <td>17.0</td>\n",
       "      <td>NaN</td>\n",
       "    </tr>\n",
       "    <tr>\n",
       "      <th>5</th>\n",
       "      <td>NaN</td>\n",
       "      <td>7</td>\n",
       "      <td>7.0</td>\n",
       "      <td>NaN</td>\n",
       "      <td>NaN</td>\n",
       "      <td>NaN</td>\n",
       "      <td>7.0</td>\n",
       "      <td>NaN</td>\n",
       "      <td>12.0</td>\n",
       "      <td>9.0</td>\n",
       "    </tr>\n",
       "    <tr>\n",
       "      <th>6</th>\n",
       "      <td>8.0</td>\n",
       "      <td>19</td>\n",
       "      <td>11.0</td>\n",
       "      <td>20.0</td>\n",
       "      <td>12.0</td>\n",
       "      <td>NaN</td>\n",
       "      <td>14.0</td>\n",
       "      <td>17.0</td>\n",
       "      <td>NaN</td>\n",
       "      <td>NaN</td>\n",
       "    </tr>\n",
       "    <tr>\n",
       "      <th>7</th>\n",
       "      <td>8.0</td>\n",
       "      <td>14</td>\n",
       "      <td>8.0</td>\n",
       "      <td>NaN</td>\n",
       "      <td>19.0</td>\n",
       "      <td>7.0</td>\n",
       "      <td>NaN</td>\n",
       "      <td>19.0</td>\n",
       "      <td>8.0</td>\n",
       "      <td>12.0</td>\n",
       "    </tr>\n",
       "    <tr>\n",
       "      <th>8</th>\n",
       "      <td>14.0</td>\n",
       "      <td>20</td>\n",
       "      <td>NaN</td>\n",
       "      <td>NaN</td>\n",
       "      <td>19.0</td>\n",
       "      <td>NaN</td>\n",
       "      <td>NaN</td>\n",
       "      <td>NaN</td>\n",
       "      <td>15.0</td>\n",
       "      <td>NaN</td>\n",
       "    </tr>\n",
       "    <tr>\n",
       "      <th>9</th>\n",
       "      <td>20.0</td>\n",
       "      <td>14</td>\n",
       "      <td>NaN</td>\n",
       "      <td>8.0</td>\n",
       "      <td>20.0</td>\n",
       "      <td>11.0</td>\n",
       "      <td>19.0</td>\n",
       "      <td>6.0</td>\n",
       "      <td>8.0</td>\n",
       "      <td>NaN</td>\n",
       "    </tr>\n",
       "  </tbody>\n",
       "</table>\n",
       "</div>"
      ],
      "text/plain": [
       "      0   1     2     3     4     5     6     7     8     9\n",
       "0   NaN  13   NaN   7.0  11.0   7.0   6.0  19.0   9.0   8.0\n",
       "1  20.0  14   NaN   NaN  20.0  20.0   6.0   6.0   NaN   NaN\n",
       "2  15.0  18   NaN   9.0  10.0   8.0   8.0   8.0   7.0  12.0\n",
       "3   9.0   8   NaN   6.0   NaN   NaN  16.0   NaN   NaN  17.0\n",
       "4   6.0   7   7.0   NaN  18.0   NaN  14.0  17.0  17.0   NaN\n",
       "5   NaN   7   7.0   NaN   NaN   NaN   7.0   NaN  12.0   9.0\n",
       "6   8.0  19  11.0  20.0  12.0   NaN  14.0  17.0   NaN   NaN\n",
       "7   8.0  14   8.0   NaN  19.0   7.0   NaN  19.0   8.0  12.0\n",
       "8  14.0  20   NaN   NaN  19.0   NaN   NaN   NaN  15.0   NaN\n",
       "9  20.0  14   NaN   8.0  20.0  11.0  19.0   6.0   8.0   NaN"
      ]
     },
     "metadata": {},
     "output_type": "display_data"
    },
    {
     "name": "stdout",
     "output_type": "stream",
     "text": [
      "Se registran un total de 2 NaN en la fila 1\n",
      "Se registran un total de 4 NaN en la fila 2\n",
      "Se registran un total de 1 NaN en la fila 3\n",
      "Se registran un total de 5 NaN en la fila 4\n",
      "Se registran un total de 3 NaN en la fila 5\n",
      "Se registran un total de 5 NaN en la fila 6\n",
      "Se registran un total de 3 NaN en la fila 7\n",
      "Se registran un total de 2 NaN en la fila 8\n",
      "Se registran un total de 6 NaN en la fila 9\n",
      "Se registran un total de 2 NaN en la fila 10\n"
     ]
    }
   ],
   "source": [
    "rand_matrix = np.random.randint(0,21, size=(10,10))\n",
    "print(f'Matriz de ejemplo: \\n {rand_matrix} \\n')\n",
    "\n",
    "df = pd.DataFrame(data=rand_matrix)\n",
    "display(df)\n",
    "\n",
    "print('Cambiando valores menores a 5 por valores null')\n",
    "df.where(df>5, np.nan, inplace=True)\n",
    "display(df)\n",
    "\n",
    "for i in range(10):\n",
    "    print(f\"Se registran un total de {df.isna().sum(axis=1)[i]} NaN en la fila {i+1}\")"
   ]
  },
  {
   "cell_type": "markdown",
   "id": "9521f155",
   "metadata": {
    "papermill": {
     "duration": 0.006968,
     "end_time": "2024-06-26T17:15:47.747724",
     "exception": false,
     "start_time": "2024-06-26T17:15:47.740756",
     "status": "completed"
    },
    "tags": []
   },
   "source": [
    "### Analysing students scores with pandas"
   ]
  },
  {
   "cell_type": "code",
   "execution_count": 8,
   "id": "8199b24c",
   "metadata": {
    "execution": {
     "iopub.execute_input": "2024-06-26T17:15:47.762697Z",
     "iopub.status.busy": "2024-06-26T17:15:47.762316Z",
     "iopub.status.idle": "2024-06-26T17:15:47.769634Z",
     "shell.execute_reply": "2024-06-26T17:15:47.768380Z"
    },
    "papermill": {
     "duration": 0.017652,
     "end_time": "2024-06-26T17:15:47.772119",
     "exception": false,
     "start_time": "2024-06-26T17:15:47.754467",
     "status": "completed"
    },
    "tags": []
   },
   "outputs": [],
   "source": [
    "students = {'StudentId': [1,2,3,4,5,6], 'Name' : ['Yael','Thomas','Paula','Orlando','Hannah','Nicole'], 'Age' : [22,31,19,44,39,51], 'Sex' : ['M', 'M', 'F', 'M', 'F', 'F']}\n",
    "subjects = {'SubjectId': [1,2,3], 'Name': ['Python', 'Math', 'DeepLearning'], 'Semester': [1, 1, 2]}\n",
    "marks = {'StudentId' : [2,2,1,3,6,4,4,3,2,5], 'SubjectId' : [1,3,1,2,1,2,3,1,2,1], 'Mark': [6,5,8,3,5,2,7,2,4,6]}"
   ]
  },
  {
   "cell_type": "code",
   "execution_count": 9,
   "id": "96987d7a",
   "metadata": {
    "execution": {
     "iopub.execute_input": "2024-06-26T17:15:47.787883Z",
     "iopub.status.busy": "2024-06-26T17:15:47.787493Z",
     "iopub.status.idle": "2024-06-26T17:15:47.812117Z",
     "shell.execute_reply": "2024-06-26T17:15:47.811148Z"
    },
    "papermill": {
     "duration": 0.035538,
     "end_time": "2024-06-26T17:15:47.814496",
     "exception": false,
     "start_time": "2024-06-26T17:15:47.778958",
     "status": "completed"
    },
    "tags": []
   },
   "outputs": [
    {
     "data": {
      "text/html": [
       "<div>\n",
       "<style scoped>\n",
       "    .dataframe tbody tr th:only-of-type {\n",
       "        vertical-align: middle;\n",
       "    }\n",
       "\n",
       "    .dataframe tbody tr th {\n",
       "        vertical-align: top;\n",
       "    }\n",
       "\n",
       "    .dataframe thead th {\n",
       "        text-align: right;\n",
       "    }\n",
       "</style>\n",
       "<table border=\"1\" class=\"dataframe\">\n",
       "  <thead>\n",
       "    <tr style=\"text-align: right;\">\n",
       "      <th></th>\n",
       "      <th>StudentId</th>\n",
       "      <th>Name</th>\n",
       "      <th>Age</th>\n",
       "      <th>Sex</th>\n",
       "    </tr>\n",
       "  </thead>\n",
       "  <tbody>\n",
       "    <tr>\n",
       "      <th>0</th>\n",
       "      <td>1</td>\n",
       "      <td>Yael</td>\n",
       "      <td>22</td>\n",
       "      <td>M</td>\n",
       "    </tr>\n",
       "    <tr>\n",
       "      <th>1</th>\n",
       "      <td>2</td>\n",
       "      <td>Thomas</td>\n",
       "      <td>31</td>\n",
       "      <td>M</td>\n",
       "    </tr>\n",
       "    <tr>\n",
       "      <th>2</th>\n",
       "      <td>3</td>\n",
       "      <td>Paula</td>\n",
       "      <td>19</td>\n",
       "      <td>F</td>\n",
       "    </tr>\n",
       "    <tr>\n",
       "      <th>3</th>\n",
       "      <td>4</td>\n",
       "      <td>Orlando</td>\n",
       "      <td>44</td>\n",
       "      <td>M</td>\n",
       "    </tr>\n",
       "    <tr>\n",
       "      <th>4</th>\n",
       "      <td>5</td>\n",
       "      <td>Hannah</td>\n",
       "      <td>39</td>\n",
       "      <td>F</td>\n",
       "    </tr>\n",
       "    <tr>\n",
       "      <th>5</th>\n",
       "      <td>6</td>\n",
       "      <td>Nicole</td>\n",
       "      <td>51</td>\n",
       "      <td>F</td>\n",
       "    </tr>\n",
       "  </tbody>\n",
       "</table>\n",
       "</div>"
      ],
      "text/plain": [
       "   StudentId     Name  Age Sex\n",
       "0          1     Yael   22   M\n",
       "1          2   Thomas   31   M\n",
       "2          3    Paula   19   F\n",
       "3          4  Orlando   44   M\n",
       "4          5   Hannah   39   F\n",
       "5          6   Nicole   51   F"
      ]
     },
     "metadata": {},
     "output_type": "display_data"
    },
    {
     "data": {
      "text/html": [
       "<div>\n",
       "<style scoped>\n",
       "    .dataframe tbody tr th:only-of-type {\n",
       "        vertical-align: middle;\n",
       "    }\n",
       "\n",
       "    .dataframe tbody tr th {\n",
       "        vertical-align: top;\n",
       "    }\n",
       "\n",
       "    .dataframe thead th {\n",
       "        text-align: right;\n",
       "    }\n",
       "</style>\n",
       "<table border=\"1\" class=\"dataframe\">\n",
       "  <thead>\n",
       "    <tr style=\"text-align: right;\">\n",
       "      <th></th>\n",
       "      <th>SubjectId</th>\n",
       "      <th>Name</th>\n",
       "      <th>Semester</th>\n",
       "    </tr>\n",
       "  </thead>\n",
       "  <tbody>\n",
       "    <tr>\n",
       "      <th>0</th>\n",
       "      <td>1</td>\n",
       "      <td>Python</td>\n",
       "      <td>1</td>\n",
       "    </tr>\n",
       "    <tr>\n",
       "      <th>1</th>\n",
       "      <td>2</td>\n",
       "      <td>Math</td>\n",
       "      <td>1</td>\n",
       "    </tr>\n",
       "    <tr>\n",
       "      <th>2</th>\n",
       "      <td>3</td>\n",
       "      <td>DeepLearning</td>\n",
       "      <td>2</td>\n",
       "    </tr>\n",
       "  </tbody>\n",
       "</table>\n",
       "</div>"
      ],
      "text/plain": [
       "   SubjectId          Name  Semester\n",
       "0          1        Python         1\n",
       "1          2          Math         1\n",
       "2          3  DeepLearning         2"
      ]
     },
     "metadata": {},
     "output_type": "display_data"
    },
    {
     "data": {
      "text/html": [
       "<div>\n",
       "<style scoped>\n",
       "    .dataframe tbody tr th:only-of-type {\n",
       "        vertical-align: middle;\n",
       "    }\n",
       "\n",
       "    .dataframe tbody tr th {\n",
       "        vertical-align: top;\n",
       "    }\n",
       "\n",
       "    .dataframe thead th {\n",
       "        text-align: right;\n",
       "    }\n",
       "</style>\n",
       "<table border=\"1\" class=\"dataframe\">\n",
       "  <thead>\n",
       "    <tr style=\"text-align: right;\">\n",
       "      <th></th>\n",
       "      <th>StudentId</th>\n",
       "      <th>SubjectId</th>\n",
       "      <th>Mark</th>\n",
       "    </tr>\n",
       "  </thead>\n",
       "  <tbody>\n",
       "    <tr>\n",
       "      <th>0</th>\n",
       "      <td>2</td>\n",
       "      <td>1</td>\n",
       "      <td>6</td>\n",
       "    </tr>\n",
       "    <tr>\n",
       "      <th>1</th>\n",
       "      <td>2</td>\n",
       "      <td>3</td>\n",
       "      <td>5</td>\n",
       "    </tr>\n",
       "    <tr>\n",
       "      <th>2</th>\n",
       "      <td>1</td>\n",
       "      <td>1</td>\n",
       "      <td>8</td>\n",
       "    </tr>\n",
       "    <tr>\n",
       "      <th>3</th>\n",
       "      <td>3</td>\n",
       "      <td>2</td>\n",
       "      <td>3</td>\n",
       "    </tr>\n",
       "    <tr>\n",
       "      <th>4</th>\n",
       "      <td>6</td>\n",
       "      <td>1</td>\n",
       "      <td>5</td>\n",
       "    </tr>\n",
       "    <tr>\n",
       "      <th>5</th>\n",
       "      <td>4</td>\n",
       "      <td>2</td>\n",
       "      <td>2</td>\n",
       "    </tr>\n",
       "    <tr>\n",
       "      <th>6</th>\n",
       "      <td>4</td>\n",
       "      <td>3</td>\n",
       "      <td>7</td>\n",
       "    </tr>\n",
       "    <tr>\n",
       "      <th>7</th>\n",
       "      <td>3</td>\n",
       "      <td>1</td>\n",
       "      <td>2</td>\n",
       "    </tr>\n",
       "    <tr>\n",
       "      <th>8</th>\n",
       "      <td>2</td>\n",
       "      <td>2</td>\n",
       "      <td>4</td>\n",
       "    </tr>\n",
       "    <tr>\n",
       "      <th>9</th>\n",
       "      <td>5</td>\n",
       "      <td>1</td>\n",
       "      <td>6</td>\n",
       "    </tr>\n",
       "  </tbody>\n",
       "</table>\n",
       "</div>"
      ],
      "text/plain": [
       "   StudentId  SubjectId  Mark\n",
       "0          2          1     6\n",
       "1          2          3     5\n",
       "2          1          1     8\n",
       "3          3          2     3\n",
       "4          6          1     5\n",
       "5          4          2     2\n",
       "6          4          3     7\n",
       "7          3          1     2\n",
       "8          2          2     4\n",
       "9          5          1     6"
      ]
     },
     "metadata": {},
     "output_type": "display_data"
    }
   ],
   "source": [
    "df_students = pd.DataFrame(data=students)\n",
    "df_subjects = pd.DataFrame(data=subjects)\n",
    "df_marks = pd.DataFrame(data=marks)\n",
    "\n",
    "display(df_students)\n",
    "display(df_subjects)\n",
    "display(df_marks)"
   ]
  },
  {
   "cell_type": "code",
   "execution_count": 10,
   "id": "66122812",
   "metadata": {
    "execution": {
     "iopub.execute_input": "2024-06-26T17:15:47.830701Z",
     "iopub.status.busy": "2024-06-26T17:15:47.830311Z",
     "iopub.status.idle": "2024-06-26T17:15:47.842887Z",
     "shell.execute_reply": "2024-06-26T17:15:47.841855Z"
    },
    "papermill": {
     "duration": 0.023306,
     "end_time": "2024-06-26T17:15:47.845189",
     "exception": false,
     "start_time": "2024-06-26T17:15:47.821883",
     "status": "completed"
    },
    "tags": []
   },
   "outputs": [
    {
     "name": "stdout",
     "output_type": "stream",
     "text": [
      "El alumno Yael obtuvó la nota más alta (8) del grupo, el curso correspondiente fue Python.\n"
     ]
    }
   ],
   "source": [
    "max_mark = df_marks.iloc[df_marks['Mark'].idxmax()]\n",
    "student_max_mark = df_students.loc[df_students['StudentId']==max_mark['StudentId']]['Name'][0]\n",
    "subject_max_mark = df_subjects.loc[df_subjects['SubjectId']==max_mark['SubjectId']]['Name'][0]\n",
    "\n",
    "print(f'El alumno {student_max_mark} obtuvó la nota más alta ({max_mark[\"Mark\"]}) del grupo, el curso correspondiente fue {subject_max_mark}.')"
   ]
  },
  {
   "cell_type": "code",
   "execution_count": 11,
   "id": "ca1d5d90",
   "metadata": {
    "execution": {
     "iopub.execute_input": "2024-06-26T17:15:47.861413Z",
     "iopub.status.busy": "2024-06-26T17:15:47.861071Z",
     "iopub.status.idle": "2024-06-26T17:15:47.871405Z",
     "shell.execute_reply": "2024-06-26T17:15:47.870391Z"
    },
    "papermill": {
     "duration": 0.021851,
     "end_time": "2024-06-26T17:15:47.874368",
     "exception": false,
     "start_time": "2024-06-26T17:15:47.852517",
     "status": "completed"
    },
    "tags": []
   },
   "outputs": [
    {
     "name": "stdout",
     "output_type": "stream",
     "text": [
      "Durante el primer semestre se registraron 4 alumnos suspendidos\n"
     ]
    }
   ],
   "source": [
    "subjectids_in_1stsemester = df_subjects[df_subjects['Semester']==1]\n",
    "suspended_marks = df_marks[df_marks['Mark']<5]\n",
    "suspended_first_semester = suspended_marks[suspended_marks['SubjectId'].isin(subjectids_in_1stsemester['SubjectId'])]\n",
    "\n",
    "\n",
    "print(f'Durante el primer semestre se registraron {len(suspended_first_semester)} alumnos suspendidos')"
   ]
  },
  {
   "cell_type": "code",
   "execution_count": 12,
   "id": "d4f7dfda",
   "metadata": {
    "execution": {
     "iopub.execute_input": "2024-06-26T17:15:47.890571Z",
     "iopub.status.busy": "2024-06-26T17:15:47.890234Z",
     "iopub.status.idle": "2024-06-26T17:15:47.898909Z",
     "shell.execute_reply": "2024-06-26T17:15:47.897670Z"
    },
    "papermill": {
     "duration": 0.019672,
     "end_time": "2024-06-26T17:15:47.901367",
     "exception": false,
     "start_time": "2024-06-26T17:15:47.881695",
     "status": "completed"
    },
    "tags": []
   },
   "outputs": [
    {
     "name": "stdout",
     "output_type": "stream",
     "text": [
      "La edad promedio de los asistentes a Python es 32.4\n"
     ]
    }
   ],
   "source": [
    "subjectid_for_python = df_subjects[df_subjects['Name']=='Python']\n",
    "studentsid_in_python = df_marks.loc[df_marks['SubjectId'] == subjectid_for_python['SubjectId'][0]]\n",
    "students_in_python = df_students.loc[df_students['StudentId'].isin(studentsid_in_python['StudentId'])]\n",
    "print(f'La edad promedio de los asistentes a Python es {students_in_python[\"Age\"].mean()}')"
   ]
  },
  {
   "cell_type": "markdown",
   "id": "6114f97a",
   "metadata": {
    "papermill": {
     "duration": 0.007171,
     "end_time": "2024-06-26T17:15:47.916114",
     "exception": false,
     "start_time": "2024-06-26T17:15:47.908943",
     "status": "completed"
    },
    "tags": []
   },
   "source": [
    "##### Form a word with the initials of the students' names sorted by age."
   ]
  },
  {
   "cell_type": "code",
   "execution_count": 13,
   "id": "fe85c2ad",
   "metadata": {
    "execution": {
     "iopub.execute_input": "2024-06-26T17:15:47.932671Z",
     "iopub.status.busy": "2024-06-26T17:15:47.931953Z",
     "iopub.status.idle": "2024-06-26T17:15:47.939652Z",
     "shell.execute_reply": "2024-06-26T17:15:47.938437Z"
    },
    "papermill": {
     "duration": 0.019498,
     "end_time": "2024-06-26T17:15:47.942901",
     "exception": false,
     "start_time": "2024-06-26T17:15:47.923403",
     "status": "completed"
    },
    "tags": []
   },
   "outputs": [
    {
     "name": "stdout",
     "output_type": "stream",
     "text": [
      "La palabra formada con las iniciales es: PYTHON\n"
     ]
    }
   ],
   "source": [
    "df_students_sorted = df_students.sort_values(by='Age')\n",
    "word_in_tuple = tuple(df_students_sorted['Name'].map(lambda x: x[0]))\n",
    "print(f'La palabra formada con las iniciales es: {\"\".join(word_in_tuple)}')"
   ]
  },
  {
   "cell_type": "markdown",
   "id": "3581aee7",
   "metadata": {
    "papermill": {
     "duration": 0.007184,
     "end_time": "2024-06-26T17:15:47.957580",
     "exception": false,
     "start_time": "2024-06-26T17:15:47.950396",
     "status": "completed"
    },
    "tags": []
   },
   "source": [
    "##### Adding some graphs"
   ]
  },
  {
   "cell_type": "code",
   "execution_count": 14,
   "id": "dab9d20a",
   "metadata": {
    "execution": {
     "iopub.execute_input": "2024-06-26T17:15:47.974073Z",
     "iopub.status.busy": "2024-06-26T17:15:47.973698Z",
     "iopub.status.idle": "2024-06-26T17:15:48.430762Z",
     "shell.execute_reply": "2024-06-26T17:15:48.429567Z"
    },
    "papermill": {
     "duration": 0.468582,
     "end_time": "2024-06-26T17:15:48.433533",
     "exception": false,
     "start_time": "2024-06-26T17:15:47.964951",
     "status": "completed"
    },
    "tags": []
   },
   "outputs": [
    {
     "data": {
      "text/html": [
       "<div>\n",
       "<style scoped>\n",
       "    .dataframe tbody tr th:only-of-type {\n",
       "        vertical-align: middle;\n",
       "    }\n",
       "\n",
       "    .dataframe tbody tr th {\n",
       "        vertical-align: top;\n",
       "    }\n",
       "\n",
       "    .dataframe thead th {\n",
       "        text-align: right;\n",
       "    }\n",
       "</style>\n",
       "<table border=\"1\" class=\"dataframe\">\n",
       "  <thead>\n",
       "    <tr style=\"text-align: right;\">\n",
       "      <th></th>\n",
       "      <th>StudentId</th>\n",
       "      <th>SubjectId</th>\n",
       "      <th>Mark</th>\n",
       "      <th>StudentSex</th>\n",
       "      <th>SubjectName</th>\n",
       "    </tr>\n",
       "  </thead>\n",
       "  <tbody>\n",
       "    <tr>\n",
       "      <th>0</th>\n",
       "      <td>2</td>\n",
       "      <td>1</td>\n",
       "      <td>6</td>\n",
       "      <td>M</td>\n",
       "      <td>Python</td>\n",
       "    </tr>\n",
       "    <tr>\n",
       "      <th>1</th>\n",
       "      <td>2</td>\n",
       "      <td>3</td>\n",
       "      <td>5</td>\n",
       "      <td>M</td>\n",
       "      <td>DeepLearning</td>\n",
       "    </tr>\n",
       "    <tr>\n",
       "      <th>2</th>\n",
       "      <td>1</td>\n",
       "      <td>1</td>\n",
       "      <td>8</td>\n",
       "      <td>M</td>\n",
       "      <td>Python</td>\n",
       "    </tr>\n",
       "    <tr>\n",
       "      <th>3</th>\n",
       "      <td>3</td>\n",
       "      <td>2</td>\n",
       "      <td>3</td>\n",
       "      <td>F</td>\n",
       "      <td>Math</td>\n",
       "    </tr>\n",
       "    <tr>\n",
       "      <th>4</th>\n",
       "      <td>6</td>\n",
       "      <td>1</td>\n",
       "      <td>5</td>\n",
       "      <td>F</td>\n",
       "      <td>Python</td>\n",
       "    </tr>\n",
       "    <tr>\n",
       "      <th>5</th>\n",
       "      <td>4</td>\n",
       "      <td>2</td>\n",
       "      <td>2</td>\n",
       "      <td>M</td>\n",
       "      <td>Math</td>\n",
       "    </tr>\n",
       "    <tr>\n",
       "      <th>6</th>\n",
       "      <td>4</td>\n",
       "      <td>3</td>\n",
       "      <td>7</td>\n",
       "      <td>M</td>\n",
       "      <td>DeepLearning</td>\n",
       "    </tr>\n",
       "    <tr>\n",
       "      <th>7</th>\n",
       "      <td>3</td>\n",
       "      <td>1</td>\n",
       "      <td>2</td>\n",
       "      <td>F</td>\n",
       "      <td>Python</td>\n",
       "    </tr>\n",
       "    <tr>\n",
       "      <th>8</th>\n",
       "      <td>2</td>\n",
       "      <td>2</td>\n",
       "      <td>4</td>\n",
       "      <td>M</td>\n",
       "      <td>Math</td>\n",
       "    </tr>\n",
       "    <tr>\n",
       "      <th>9</th>\n",
       "      <td>5</td>\n",
       "      <td>1</td>\n",
       "      <td>6</td>\n",
       "      <td>F</td>\n",
       "      <td>Python</td>\n",
       "    </tr>\n",
       "  </tbody>\n",
       "</table>\n",
       "</div>"
      ],
      "text/plain": [
       "   StudentId  SubjectId  Mark StudentSex   SubjectName\n",
       "0          2          1     6          M        Python\n",
       "1          2          3     5          M  DeepLearning\n",
       "2          1          1     8          M        Python\n",
       "3          3          2     3          F          Math\n",
       "4          6          1     5          F        Python\n",
       "5          4          2     2          M          Math\n",
       "6          4          3     7          M  DeepLearning\n",
       "7          3          1     2          F        Python\n",
       "8          2          2     4          M          Math\n",
       "9          5          1     6          F        Python"
      ]
     },
     "metadata": {},
     "output_type": "display_data"
    },
    {
     "data": {
      "image/png": "[encoded data removed]",
      "text/plain": [
       "<Figure size 640x480 with 1 Axes>"
      ]
     },
     "metadata": {},
     "output_type": "display_data"
    }
   ],
   "source": [
    "df_chart_1 = df_marks.copy()\n",
    "df_chart_1['StudentSex'] = df_chart_1['StudentId'].apply(lambda x: df_students.loc[df_students['StudentId']==x, 'Sex'].values[0])\n",
    "df_chart_1['SubjectName'] = df_chart_1['SubjectId'].apply(lambda x: df_subjects.loc[df_subjects['SubjectId']==x, 'Name'].values[0])\n",
    "display(df_chart_1)\n",
    "\n",
    "sns.barplot(x='SubjectName', y='Mark', hue='StudentSex', data=df_chart_1)\n",
    "plt.show()"
   ]
  },
  {
   "cell_type": "code",
   "execution_count": 15,
   "id": "851c7d31",
   "metadata": {
    "execution": {
     "iopub.execute_input": "2024-06-26T17:15:48.451544Z",
     "iopub.status.busy": "2024-06-26T17:15:48.451181Z",
     "iopub.status.idle": "2024-06-26T17:15:49.110960Z",
     "shell.execute_reply": "2024-06-26T17:15:49.109883Z"
    },
    "papermill": {
     "duration": 0.671613,
     "end_time": "2024-06-26T17:15:49.113313",
     "exception": false,
     "start_time": "2024-06-26T17:15:48.441700",
     "status": "completed"
    },
    "tags": []
   },
   "outputs": [
    {
     "data": {
      "text/html": [
       "<div>\n",
       "<style scoped>\n",
       "    .dataframe tbody tr th:only-of-type {\n",
       "        vertical-align: middle;\n",
       "    }\n",
       "\n",
       "    .dataframe tbody tr th {\n",
       "        vertical-align: top;\n",
       "    }\n",
       "\n",
       "    .dataframe thead th {\n",
       "        text-align: right;\n",
       "    }\n",
       "</style>\n",
       "<table border=\"1\" class=\"dataframe\">\n",
       "  <thead>\n",
       "    <tr style=\"text-align: right;\">\n",
       "      <th></th>\n",
       "      <th>StudentId</th>\n",
       "      <th>SubjectId</th>\n",
       "      <th>Mark</th>\n",
       "      <th>StudentAge</th>\n",
       "    </tr>\n",
       "  </thead>\n",
       "  <tbody>\n",
       "    <tr>\n",
       "      <th>0</th>\n",
       "      <td>2</td>\n",
       "      <td>1</td>\n",
       "      <td>6</td>\n",
       "      <td>31</td>\n",
       "    </tr>\n",
       "    <tr>\n",
       "      <th>1</th>\n",
       "      <td>2</td>\n",
       "      <td>3</td>\n",
       "      <td>5</td>\n",
       "      <td>31</td>\n",
       "    </tr>\n",
       "    <tr>\n",
       "      <th>2</th>\n",
       "      <td>1</td>\n",
       "      <td>1</td>\n",
       "      <td>8</td>\n",
       "      <td>22</td>\n",
       "    </tr>\n",
       "    <tr>\n",
       "      <th>3</th>\n",
       "      <td>3</td>\n",
       "      <td>2</td>\n",
       "      <td>3</td>\n",
       "      <td>19</td>\n",
       "    </tr>\n",
       "    <tr>\n",
       "      <th>4</th>\n",
       "      <td>6</td>\n",
       "      <td>1</td>\n",
       "      <td>5</td>\n",
       "      <td>51</td>\n",
       "    </tr>\n",
       "    <tr>\n",
       "      <th>5</th>\n",
       "      <td>4</td>\n",
       "      <td>2</td>\n",
       "      <td>2</td>\n",
       "      <td>44</td>\n",
       "    </tr>\n",
       "    <tr>\n",
       "      <th>6</th>\n",
       "      <td>4</td>\n",
       "      <td>3</td>\n",
       "      <td>7</td>\n",
       "      <td>44</td>\n",
       "    </tr>\n",
       "    <tr>\n",
       "      <th>7</th>\n",
       "      <td>3</td>\n",
       "      <td>1</td>\n",
       "      <td>2</td>\n",
       "      <td>19</td>\n",
       "    </tr>\n",
       "    <tr>\n",
       "      <th>8</th>\n",
       "      <td>2</td>\n",
       "      <td>2</td>\n",
       "      <td>4</td>\n",
       "      <td>31</td>\n",
       "    </tr>\n",
       "    <tr>\n",
       "      <th>9</th>\n",
       "      <td>5</td>\n",
       "      <td>1</td>\n",
       "      <td>6</td>\n",
       "      <td>39</td>\n",
       "    </tr>\n",
       "  </tbody>\n",
       "</table>\n",
       "</div>"
      ],
      "text/plain": [
       "   StudentId  SubjectId  Mark  StudentAge\n",
       "0          2          1     6          31\n",
       "1          2          3     5          31\n",
       "2          1          1     8          22\n",
       "3          3          2     3          19\n",
       "4          6          1     5          51\n",
       "5          4          2     2          44\n",
       "6          4          3     7          44\n",
       "7          3          1     2          19\n",
       "8          2          2     4          31\n",
       "9          5          1     6          39"
      ]
     },
     "metadata": {},
     "output_type": "display_data"
    },
    {
     "name": "stderr",
     "output_type": "stream",
     "text": [
      "/opt/conda/lib/python3.10/site-packages/seaborn/_oldcore.py:1119: FutureWarning: use_inf_as_na option is deprecated and will be removed in a future version. Convert inf values to NaN before operating instead.\n",
      "  with pd.option_context('mode.use_inf_as_na', True):\n",
      "/opt/conda/lib/python3.10/site-packages/seaborn/_oldcore.py:1119: FutureWarning: use_inf_as_na option is deprecated and will be removed in a future version. Convert inf values to NaN before operating instead.\n",
      "  with pd.option_context('mode.use_inf_as_na', True):\n"
     ]
    },
    {
     "data": {
      "image/png": "[encoded data removed]",
      "text/plain": [
       "<Figure size 600x600 with 3 Axes>"
      ]
     },
     "metadata": {},
     "output_type": "display_data"
    }
   ],
   "source": [
    "df_chart_2 = df_marks.copy()\n",
    "df_chart_2['StudentAge'] = df_chart_2['StudentId'].apply(lambda x: df_students.loc[df_students['StudentId']==x, 'Age'].values[0])\n",
    "display(df_chart_2)\n",
    "\n",
    "sns.jointplot(x='StudentAge', y='Mark', kind=\"scatter\", data=df_chart_2);\n",
    "plt.show()"
   ]
  }
 ],
 "metadata": {
  "kaggle": {
   "accelerator": "none",
   "dataSources": [
    {
     "datasetId": 5288711,
     "sourceId": 8795558,
     "sourceType": "datasetVersion"
    }
   ],
   "dockerImageVersionId": 30732,
   "isGpuEnabled": false,
   "isInternetEnabled": false,
   "language": "python",
   "sourceType": "notebook"
  },
  "kernelspec": {
   "display_name": "Python 3",
   "language": "python",
   "name": "python3"
  },
  "language_info": {
   "codemirror_mode": {
    "name": "ipython",
    "version": 3
   },
   "file_extension": ".py",
   "mimetype": "text/x-python",
   "name": "python",
   "nbconvert_exporter": "python",
   "pygments_lexer": "ipython3",
   "version": "3.10.13"
  },
  "papermill": {
   "default_parameters": {},
   "duration": 7.491349,
   "end_time": "2024-06-26T17:15:49.743274",
   "environment_variables": {},
   "exception": null,
   "input_path": "__notebook__.ipynb",
   "output_path": "__notebook__.ipynb",
   "parameters": {},
   "start_time": "2024-06-26T17:15:42.251925",
   "version": "2.5.0"
  }
 },
 "nbformat": 4,
 "nbformat_minor": 5
}
