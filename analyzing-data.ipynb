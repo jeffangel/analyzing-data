{
 "cells": [
  {
   "cell_type": "code",
   "execution_count": 1,
   "id": "c333879a",
   "metadata": {
    "_cell_guid": "b1076dfc-b9ad-4769-8c92-a6c4dae69d19",
    "_uuid": "8f2839f25d086af736a60e9eeb907d3b93b6e0e5",
    "execution": {
     "iopub.execute_input": "2024-06-26T17:10:18.425285Z",
     "iopub.status.busy": "2024-06-26T17:10:18.424198Z",
     "iopub.status.idle": "2024-06-26T17:10:20.881242Z",
     "shell.execute_reply": "2024-06-26T17:10:20.880191Z"
    },
    "papermill": {
     "duration": 2.470189,
     "end_time": "2024-06-26T17:10:20.884102",
     "exception": false,
     "start_time": "2024-06-26T17:10:18.413913",
     "status": "completed"
    },
    "tags": []
   },
   "outputs": [],
   "source": [
    "import os\n",
    "\n",
    "import numpy as np\n",
    "import pandas as pd \n",
    "import numpy.linalg as la\n",
    "import seaborn as sns\n",
    "import matplotlib.pyplot as plt"
   ]
  },
  {
   "cell_type": "markdown",
   "id": "1d6b14e7",
   "metadata": {
    "papermill": {
     "duration": 0.007351,
     "end_time": "2024-06-26T17:10:20.899358",
     "exception": false,
     "start_time": "2024-06-26T17:10:20.892007",
     "status": "completed"
    },
    "tags": []
   },
   "source": [
    "#### Setting general variables"
   ]
  },
  {
   "cell_type": "code",
   "execution_count": 2,
   "id": "c725cc79",
   "metadata": {
    "execution": {
     "iopub.execute_input": "2024-06-26T17:10:20.916464Z",
     "iopub.status.busy": "2024-06-26T17:10:20.915880Z",
     "iopub.status.idle": "2024-06-26T17:10:20.921878Z",
     "shell.execute_reply": "2024-06-26T17:10:20.920677Z"
    },
    "papermill": {
     "duration": 0.017453,
     "end_time": "2024-06-26T17:10:20.924345",
     "exception": false,
     "start_time": "2024-06-26T17:10:20.906892",
     "status": "completed"
    },
    "tags": []
   },
   "outputs": [],
   "source": [
    "file_path_source = '/kaggle/input/us-cities-states-countries/us_cities_states_counties.csv'\n",
    "header_row_number = 0\n",
    "delimiter = \"|\"\n",
    "column_header = 'State full'\n",
    "city = \"Florida\"\n",
    "data_row_number = 1"
   ]
  },
  {
   "cell_type": "markdown",
   "id": "75a926b7",
   "metadata": {
    "papermill": {
     "duration": 0.007435,
     "end_time": "2024-06-26T17:10:20.939587",
     "exception": false,
     "start_time": "2024-06-26T17:10:20.932152",
     "status": "completed"
    },
    "tags": []
   },
   "source": [
    "#### Counting Florida coincidences with Python"
   ]
  },
  {
   "cell_type": "code",
   "execution_count": 3,
   "id": "b8a538f0",
   "metadata": {
    "execution": {
     "iopub.execute_input": "2024-06-26T17:10:20.956842Z",
     "iopub.status.busy": "2024-06-26T17:10:20.956410Z",
     "iopub.status.idle": "2024-06-26T17:10:21.135890Z",
     "shell.execute_reply": "2024-06-26T17:10:21.134315Z"
    },
    "papermill": {
     "duration": 0.191458,
     "end_time": "2024-06-26T17:10:21.138658",
     "exception": false,
     "start_time": "2024-06-26T17:10:20.947200",
     "status": "completed"
    },
    "tags": []
   },
   "outputs": [
    {
     "name": "stdout",
     "output_type": "stream",
     "text": [
      "En total se registran 1400 ciudades pertenecientes a Florida según el archivo fuente.\n"
     ]
    }
   ],
   "source": [
    "with open(file_path_source) as mycsv:\n",
    "    counter = 0\n",
    "    content = mycsv.readlines()\n",
    "    header = content[header_row_number].strip().split(delimiter)\n",
    "    state_index = header.index(column_header)\n",
    "    rows = content[data_row_number:]\n",
    "    for row in rows:\n",
    "        values = row.strip().split(delimiter)\n",
    "        if city in values[state_index]:\n",
    "            counter +=1            \n",
    "        \n",
    "print(f\"En total se registran {counter} ciudades pertenecientes a Florida según el archivo fuente.\")"
   ]
  },
  {
   "cell_type": "markdown",
   "id": "64df0aaa",
   "metadata": {
    "papermill": {
     "duration": 0.007382,
     "end_time": "2024-06-26T17:10:21.154001",
     "exception": false,
     "start_time": "2024-06-26T17:10:21.146619",
     "status": "completed"
    },
    "tags": []
   },
   "source": [
    "#### Counting Florida coincidences with Python through Pandas"
   ]
  },
  {
   "cell_type": "code",
   "execution_count": 4,
   "id": "c0efa2ff",
   "metadata": {
    "execution": {
     "iopub.execute_input": "2024-06-26T17:10:21.171901Z",
     "iopub.status.busy": "2024-06-26T17:10:21.171003Z",
     "iopub.status.idle": "2024-06-26T17:10:21.393799Z",
     "shell.execute_reply": "2024-06-26T17:10:21.392653Z"
    },
    "papermill": {
     "duration": 0.23451,
     "end_time": "2024-06-26T17:10:21.396341",
     "exception": false,
     "start_time": "2024-06-26T17:10:21.161831",
     "status": "completed"
    },
    "tags": []
   },
   "outputs": [
    {
     "name": "stdout",
     "output_type": "stream",
     "text": [
      "En total se registran 1400 ciudades pertenecientes a Florida según el archivo fuente.\n"
     ]
    }
   ],
   "source": [
    "import pandas as pd\n",
    "df = pd.read_csv(file_path_source,delimiter=delimiter)\n",
    "df = df[df[column_header] == city]\n",
    "print(f\"En total se registran {len(df)} ciudades pertenecientes a Florida según el archivo fuente.\")"
   ]
  },
  {
   "cell_type": "markdown",
   "id": "f42d0d4b",
   "metadata": {
    "papermill": {
     "duration": 0.008007,
     "end_time": "2024-06-26T17:10:21.412121",
     "exception": false,
     "start_time": "2024-06-26T17:10:21.404114",
     "status": "completed"
    },
    "tags": []
   },
   "source": [
    "#### Working with Numpy"
   ]
  },
  {
   "cell_type": "code",
   "execution_count": 5,
   "id": "0be63ef7",
   "metadata": {
    "execution": {
     "iopub.execute_input": "2024-06-26T17:10:21.430234Z",
     "iopub.status.busy": "2024-06-26T17:10:21.429371Z",
     "iopub.status.idle": "2024-06-26T17:10:21.442621Z",
     "shell.execute_reply": "2024-06-26T17:10:21.441370Z"
    },
    "papermill": {
     "duration": 0.025617,
     "end_time": "2024-06-26T17:10:21.445745",
     "exception": false,
     "start_time": "2024-06-26T17:10:21.420128",
     "status": "completed"
    },
    "tags": []
   },
   "outputs": [
    {
     "name": "stdout",
     "output_type": "stream",
     "text": [
      "Matriz de ejemplo: \n",
      " [[ 52  54  47  69  20  60  24  94   2  56  24  22  34  25  73  31]\n",
      " [ 59  18  80   0  48  92  59  55  22  19  41  29  72  57  16  51]\n",
      " [ 52  30  97  35  19   9  87  78  16  28  54  49  54  54  56  53]\n",
      " [  2  18  15   6  86  87  29  13  13  37 100  36  66  88   1  99]\n",
      " [ 89  99  98  64  34  42  45  18  29  97  42   1  67  38  96  13]\n",
      " [ 16  66  80   7  64  67  52   0  34  70  12  44  46  78  42  43]\n",
      " [  5  27  49   2  52  45  43  68  77  69  12   0  57  55  95  47]\n",
      " [ 97  43  52  26   6 100  66  93   9   6  56  56  19  33  73  24]\n",
      " [ 43  99   8  29   3  72  31  17  16  31  40  53  29  21  74  58]\n",
      " [ 85  63  24  71 100  97  76  61  97  42  80  79  64  23  55  74]\n",
      " [ 30  72  72  53  51  73  28   0  91  35  20  11  23  75  55  24]\n",
      " [ 43  15  73  14  69  54  23  86  27  96   1  57  87  77  74  52]\n",
      " [ 81  91  77  73   0  65  96  62  53  89  39  28  87  29  78   9]\n",
      " [ 50  99   5  41   6  65  92  75  49  80  79  37  41  76  61  72]\n",
      " [ 29  90  61  11  29  45  50  67   9   9  61  75  87  46  46  83]\n",
      " [ 66  14  68   8  57   0  82  21  16   8  69  89   7  36  59  79]] \n",
      "\n",
      "El valor de la suma total de la fila 1 es 687\n",
      "El valor del promedio de la fila 1 es 42.9375\n",
      "El valor mínimo de la fila 1 es 2\n",
      "El valor máximo de la fila 1 es 94\n",
      "\n",
      "El valor de la suma total de la fila 2 es 718\n",
      "El valor del promedio de la fila 2 es 44.875\n",
      "El valor mínimo de la fila 2 es 0\n",
      "El valor máximo de la fila 2 es 92\n",
      "\n",
      "El valor de la suma total de la fila 3 es 771\n",
      "El valor del promedio de la fila 3 es 48.1875\n",
      "El valor mínimo de la fila 3 es 9\n",
      "El valor máximo de la fila 3 es 97\n",
      "\n",
      "El valor de la suma total de la fila 4 es 696\n",
      "El valor del promedio de la fila 4 es 43.5\n",
      "El valor mínimo de la fila 4 es 1\n",
      "El valor máximo de la fila 4 es 100\n",
      "\n",
      "El valor de la suma total de la fila 5 es 872\n",
      "El valor del promedio de la fila 5 es 54.5\n",
      "El valor mínimo de la fila 5 es 1\n",
      "El valor máximo de la fila 5 es 99\n",
      "\n",
      "El valor de la suma total de la fila 6 es 721\n",
      "El valor del promedio de la fila 6 es 45.0625\n",
      "El valor mínimo de la fila 6 es 0\n",
      "El valor máximo de la fila 6 es 80\n",
      "\n",
      "El valor de la suma total de la fila 7 es 703\n",
      "El valor del promedio de la fila 7 es 43.9375\n",
      "El valor mínimo de la fila 7 es 0\n",
      "El valor máximo de la fila 7 es 95\n",
      "\n",
      "El valor de la suma total de la fila 8 es 759\n",
      "El valor del promedio de la fila 8 es 47.4375\n",
      "El valor mínimo de la fila 8 es 6\n",
      "El valor máximo de la fila 8 es 100\n",
      "\n",
      "El valor de la suma total de la fila 9 es 624\n",
      "El valor del promedio de la fila 9 es 39.0\n",
      "El valor mínimo de la fila 9 es 3\n",
      "El valor máximo de la fila 9 es 99\n",
      "\n",
      "El valor de la suma total de la fila 10 es 1091\n",
      "El valor del promedio de la fila 10 es 68.1875\n",
      "El valor mínimo de la fila 10 es 23\n",
      "El valor máximo de la fila 10 es 100\n",
      "\n",
      "El valor de la suma total de la fila 11 es 713\n",
      "El valor del promedio de la fila 11 es 44.5625\n",
      "El valor mínimo de la fila 11 es 0\n",
      "El valor máximo de la fila 11 es 91\n",
      "\n",
      "El valor de la suma total de la fila 12 es 848\n",
      "El valor del promedio de la fila 12 es 53.0\n",
      "El valor mínimo de la fila 12 es 1\n",
      "El valor máximo de la fila 12 es 96\n",
      "\n",
      "El valor de la suma total de la fila 13 es 957\n",
      "El valor del promedio de la fila 13 es 59.8125\n",
      "El valor mínimo de la fila 13 es 0\n",
      "El valor máximo de la fila 13 es 96\n",
      "\n",
      "El valor de la suma total de la fila 14 es 928\n",
      "El valor del promedio de la fila 14 es 58.0\n",
      "El valor mínimo de la fila 14 es 5\n",
      "El valor máximo de la fila 14 es 99\n",
      "\n",
      "El valor de la suma total de la fila 15 es 798\n",
      "El valor del promedio de la fila 15 es 49.875\n",
      "El valor mínimo de la fila 15 es 9\n",
      "El valor máximo de la fila 15 es 90\n",
      "\n",
      "El valor de la suma total de la fila 16 es 679\n",
      "El valor del promedio de la fila 16 es 42.4375\n",
      "El valor mínimo de la fila 16 es 0\n",
      "El valor máximo de la fila 16 es 89\n",
      "\n"
     ]
    }
   ],
   "source": [
    "rand_matrix = np.random.randint(0,101, size=(16,16))\n",
    "print(f'Matriz de ejemplo: \\n {rand_matrix} \\n')\n",
    "\n",
    "for i in range(16):\n",
    "    print(f\"El valor de la suma total de la fila {i+1} es {np.sum(rand_matrix, axis=1)[i]}\")\n",
    "    print(f\"El valor del promedio de la fila {i+1} es {np.mean(rand_matrix, axis=1)[i]}\")\n",
    "    print(f\"El valor mínimo de la fila {i+1} es {np.min(rand_matrix, axis=1)[i]}\")\n",
    "    print(f\"El valor máximo de la fila {i+1} es {np.max(rand_matrix, axis=1)[i]}\\n\")"
   ]
  },
  {
   "cell_type": "markdown",
   "id": "9d94265a",
   "metadata": {
    "papermill": {
     "duration": 0.007747,
     "end_time": "2024-06-26T17:10:21.462020",
     "exception": false,
     "start_time": "2024-06-26T17:10:21.454273",
     "status": "completed"
    },
    "tags": []
   },
   "source": [
    "#### Solving math problems\n",
    "- Mathematical equation system\n",
    "    - $ A : \\begin{cases} -9y +  4x = 20 \\\\ -7y + 16x = 80                         \\end{cases}$\n",
    "    \n",
    "    - $ B : \\begin{cases} x - 2y + 3z = 7 \\\\ 2x + y + z = 4 \\\\ -3x + 2y -2z = -10 \\end{cases}$"
   ]
  },
  {
   "cell_type": "code",
   "execution_count": 6,
   "id": "eef14175",
   "metadata": {
    "execution": {
     "iopub.execute_input": "2024-06-26T17:10:21.480305Z",
     "iopub.status.busy": "2024-06-26T17:10:21.479513Z",
     "iopub.status.idle": "2024-06-26T17:10:21.490762Z",
     "shell.execute_reply": "2024-06-26T17:10:21.489664Z"
    },
    "papermill": {
     "duration": 0.024077,
     "end_time": "2024-06-26T17:10:21.494129",
     "exception": false,
     "start_time": "2024-06-26T17:10:21.470052",
     "status": "completed"
    },
    "tags": []
   },
   "outputs": [
    {
     "name": "stdout",
     "output_type": "stream",
     "text": [
      "El valor de la variable X e Y en el primer sistema de ecuaciones son respectivamente 5.0, -0.0\n",
      "El valor de la variable X, Y y Z en el segundo sistema de ecuaciones son respectivamente 2.0, -0.9999999999999998, 1.0000000000000002\n"
     ]
    }
   ],
   "source": [
    "equation_A, results_A = [[-9,4],[-7,16]], [20,80]\n",
    "solution_A = la.solve(equation_A, results_A)\n",
    "print(f\"El valor de la variable X e Y en el primer sistema de ecuaciones son respectivamente {solution_A[1]}, {solution_A[0]}\")\n",
    "\n",
    "equation_B, results_B = [[1,-2,3],[2,1,1],[-3,2,-2]], [7,4,-10]\n",
    "solution_B = la.solve(equation_B, results_B)\n",
    "print(f\"El valor de la variable X, Y y Z en el segundo sistema de ecuaciones son respectivamente {solution_B[0]}, {solution_B[1]}, {solution_B[2]}\")"
   ]
  },
  {
   "cell_type": "markdown",
   "id": "c4b695bf",
   "metadata": {
    "papermill": {
     "duration": 0.007934,
     "end_time": "2024-06-26T17:10:21.510315",
     "exception": false,
     "start_time": "2024-06-26T17:10:21.502381",
     "status": "completed"
    },
    "tags": []
   },
   "source": [
    "#### Working with pandas and random sample dataframe"
   ]
  },
  {
   "cell_type": "code",
   "execution_count": 7,
   "id": "c322d156",
   "metadata": {
    "execution": {
     "iopub.execute_input": "2024-06-26T17:10:21.529016Z",
     "iopub.status.busy": "2024-06-26T17:10:21.528624Z",
     "iopub.status.idle": "2024-06-26T17:10:21.588579Z",
     "shell.execute_reply": "2024-06-26T17:10:21.587269Z"
    },
    "papermill": {
     "duration": 0.073023,
     "end_time": "2024-06-26T17:10:21.591610",
     "exception": false,
     "start_time": "2024-06-26T17:10:21.518587",
     "status": "completed"
    },
    "tags": []
   },
   "outputs": [
    {
     "name": "stdout",
     "output_type": "stream",
     "text": [
      "Matriz de ejemplo: \n",
      " [[13 10  3  7 15 18  7 20  0  9]\n",
      " [19  5 12 10  0  4 10  2 16 14]\n",
      " [20 16  3 13  3 13  6  0  3  9]\n",
      " [15 20  2 14  7 12  6  0 13  0]\n",
      " [11 11  5 19  5  8 11 18 16 16]\n",
      " [ 9 13 14  9  3 16 12  9  8 19]\n",
      " [ 6  9 18 15  4 12  1  5  0  0]\n",
      " [ 1  8 16  5  5 11  4 19  9  2]\n",
      " [ 0  6 15 10 12  7 10  3 13 15]\n",
      " [ 4  6  5 20 15  3  8  0 19 18]] \n",
      "\n"
     ]
    },
    {
     "data": {
      "text/html": [
       "<div>\n",
       "<style scoped>\n",
       "    .dataframe tbody tr th:only-of-type {\n",
       "        vertical-align: middle;\n",
       "    }\n",
       "\n",
       "    .dataframe tbody tr th {\n",
       "        vertical-align: top;\n",
       "    }\n",
       "\n",
       "    .dataframe thead th {\n",
       "        text-align: right;\n",
       "    }\n",
       "</style>\n",
       "<table border=\"1\" class=\"dataframe\">\n",
       "  <thead>\n",
       "    <tr style=\"text-align: right;\">\n",
       "      <th></th>\n",
       "      <th>0</th>\n",
       "      <th>1</th>\n",
       "      <th>2</th>\n",
       "      <th>3</th>\n",
       "      <th>4</th>\n",
       "      <th>5</th>\n",
       "      <th>6</th>\n",
       "      <th>7</th>\n",
       "      <th>8</th>\n",
       "      <th>9</th>\n",
       "    </tr>\n",
       "  </thead>\n",
       "  <tbody>\n",
       "    <tr>\n",
       "      <th>0</th>\n",
       "      <td>13</td>\n",
       "      <td>10</td>\n",
       "      <td>3</td>\n",
       "      <td>7</td>\n",
       "      <td>15</td>\n",
       "      <td>18</td>\n",
       "      <td>7</td>\n",
       "      <td>20</td>\n",
       "      <td>0</td>\n",
       "      <td>9</td>\n",
       "    </tr>\n",
       "    <tr>\n",
       "      <th>1</th>\n",
       "      <td>19</td>\n",
       "      <td>5</td>\n",
       "      <td>12</td>\n",
       "      <td>10</td>\n",
       "      <td>0</td>\n",
       "      <td>4</td>\n",
       "      <td>10</td>\n",
       "      <td>2</td>\n",
       "      <td>16</td>\n",
       "      <td>14</td>\n",
       "    </tr>\n",
       "    <tr>\n",
       "      <th>2</th>\n",
       "      <td>20</td>\n",
       "      <td>16</td>\n",
       "      <td>3</td>\n",
       "      <td>13</td>\n",
       "      <td>3</td>\n",
       "      <td>13</td>\n",
       "      <td>6</td>\n",
       "      <td>0</td>\n",
       "      <td>3</td>\n",
       "      <td>9</td>\n",
       "    </tr>\n",
       "    <tr>\n",
       "      <th>3</th>\n",
       "      <td>15</td>\n",
       "      <td>20</td>\n",
       "      <td>2</td>\n",
       "      <td>14</td>\n",
       "      <td>7</td>\n",
       "      <td>12</td>\n",
       "      <td>6</td>\n",
       "      <td>0</td>\n",
       "      <td>13</td>\n",
       "      <td>0</td>\n",
       "    </tr>\n",
       "    <tr>\n",
       "      <th>4</th>\n",
       "      <td>11</td>\n",
       "      <td>11</td>\n",
       "      <td>5</td>\n",
       "      <td>19</td>\n",
       "      <td>5</td>\n",
       "      <td>8</td>\n",
       "      <td>11</td>\n",
       "      <td>18</td>\n",
       "      <td>16</td>\n",
       "      <td>16</td>\n",
       "    </tr>\n",
       "    <tr>\n",
       "      <th>5</th>\n",
       "      <td>9</td>\n",
       "      <td>13</td>\n",
       "      <td>14</td>\n",
       "      <td>9</td>\n",
       "      <td>3</td>\n",
       "      <td>16</td>\n",
       "      <td>12</td>\n",
       "      <td>9</td>\n",
       "      <td>8</td>\n",
       "      <td>19</td>\n",
       "    </tr>\n",
       "    <tr>\n",
       "      <th>6</th>\n",
       "      <td>6</td>\n",
       "      <td>9</td>\n",
       "      <td>18</td>\n",
       "      <td>15</td>\n",
       "      <td>4</td>\n",
       "      <td>12</td>\n",
       "      <td>1</td>\n",
       "      <td>5</td>\n",
       "      <td>0</td>\n",
       "      <td>0</td>\n",
       "    </tr>\n",
       "    <tr>\n",
       "      <th>7</th>\n",
       "      <td>1</td>\n",
       "      <td>8</td>\n",
       "      <td>16</td>\n",
       "      <td>5</td>\n",
       "      <td>5</td>\n",
       "      <td>11</td>\n",
       "      <td>4</td>\n",
       "      <td>19</td>\n",
       "      <td>9</td>\n",
       "      <td>2</td>\n",
       "    </tr>\n",
       "    <tr>\n",
       "      <th>8</th>\n",
       "      <td>0</td>\n",
       "      <td>6</td>\n",
       "      <td>15</td>\n",
       "      <td>10</td>\n",
       "      <td>12</td>\n",
       "      <td>7</td>\n",
       "      <td>10</td>\n",
       "      <td>3</td>\n",
       "      <td>13</td>\n",
       "      <td>15</td>\n",
       "    </tr>\n",
       "    <tr>\n",
       "      <th>9</th>\n",
       "      <td>4</td>\n",
       "      <td>6</td>\n",
       "      <td>5</td>\n",
       "      <td>20</td>\n",
       "      <td>15</td>\n",
       "      <td>3</td>\n",
       "      <td>8</td>\n",
       "      <td>0</td>\n",
       "      <td>19</td>\n",
       "      <td>18</td>\n",
       "    </tr>\n",
       "  </tbody>\n",
       "</table>\n",
       "</div>"
      ],
      "text/plain": [
       "    0   1   2   3   4   5   6   7   8   9\n",
       "0  13  10   3   7  15  18   7  20   0   9\n",
       "1  19   5  12  10   0   4  10   2  16  14\n",
       "2  20  16   3  13   3  13   6   0   3   9\n",
       "3  15  20   2  14   7  12   6   0  13   0\n",
       "4  11  11   5  19   5   8  11  18  16  16\n",
       "5   9  13  14   9   3  16  12   9   8  19\n",
       "6   6   9  18  15   4  12   1   5   0   0\n",
       "7   1   8  16   5   5  11   4  19   9   2\n",
       "8   0   6  15  10  12   7  10   3  13  15\n",
       "9   4   6   5  20  15   3   8   0  19  18"
      ]
     },
     "metadata": {},
     "output_type": "display_data"
    },
    {
     "name": "stdout",
     "output_type": "stream",
     "text": [
      "Cambiando valores menores a 5 por valores null\n"
     ]
    },
    {
     "data": {
      "text/html": [
       "<div>\n",
       "<style scoped>\n",
       "    .dataframe tbody tr th:only-of-type {\n",
       "        vertical-align: middle;\n",
       "    }\n",
       "\n",
       "    .dataframe tbody tr th {\n",
       "        vertical-align: top;\n",
       "    }\n",
       "\n",
       "    .dataframe thead th {\n",
       "        text-align: right;\n",
       "    }\n",
       "</style>\n",
       "<table border=\"1\" class=\"dataframe\">\n",
       "  <thead>\n",
       "    <tr style=\"text-align: right;\">\n",
       "      <th></th>\n",
       "      <th>0</th>\n",
       "      <th>1</th>\n",
       "      <th>2</th>\n",
       "      <th>3</th>\n",
       "      <th>4</th>\n",
       "      <th>5</th>\n",
       "      <th>6</th>\n",
       "      <th>7</th>\n",
       "      <th>8</th>\n",
       "      <th>9</th>\n",
       "    </tr>\n",
       "  </thead>\n",
       "  <tbody>\n",
       "    <tr>\n",
       "      <th>0</th>\n",
       "      <td>13.0</td>\n",
       "      <td>10.0</td>\n",
       "      <td>NaN</td>\n",
       "      <td>7.0</td>\n",
       "      <td>15.0</td>\n",
       "      <td>18.0</td>\n",
       "      <td>7.0</td>\n",
       "      <td>20.0</td>\n",
       "      <td>NaN</td>\n",
       "      <td>9.0</td>\n",
       "    </tr>\n",
       "    <tr>\n",
       "      <th>1</th>\n",
       "      <td>19.0</td>\n",
       "      <td>NaN</td>\n",
       "      <td>12.0</td>\n",
       "      <td>10.0</td>\n",
       "      <td>NaN</td>\n",
       "      <td>NaN</td>\n",
       "      <td>10.0</td>\n",
       "      <td>NaN</td>\n",
       "      <td>16.0</td>\n",
       "      <td>14.0</td>\n",
       "    </tr>\n",
       "    <tr>\n",
       "      <th>2</th>\n",
       "      <td>20.0</td>\n",
       "      <td>16.0</td>\n",
       "      <td>NaN</td>\n",
       "      <td>13.0</td>\n",
       "      <td>NaN</td>\n",
       "      <td>13.0</td>\n",
       "      <td>6.0</td>\n",
       "      <td>NaN</td>\n",
       "      <td>NaN</td>\n",
       "      <td>9.0</td>\n",
       "    </tr>\n",
       "    <tr>\n",
       "      <th>3</th>\n",
       "      <td>15.0</td>\n",
       "      <td>20.0</td>\n",
       "      <td>NaN</td>\n",
       "      <td>14.0</td>\n",
       "      <td>7.0</td>\n",
       "      <td>12.0</td>\n",
       "      <td>6.0</td>\n",
       "      <td>NaN</td>\n",
       "      <td>13.0</td>\n",
       "      <td>NaN</td>\n",
       "    </tr>\n",
       "    <tr>\n",
       "      <th>4</th>\n",
       "      <td>11.0</td>\n",
       "      <td>11.0</td>\n",
       "      <td>NaN</td>\n",
       "      <td>19.0</td>\n",
       "      <td>NaN</td>\n",
       "      <td>8.0</td>\n",
       "      <td>11.0</td>\n",
       "      <td>18.0</td>\n",
       "      <td>16.0</td>\n",
       "      <td>16.0</td>\n",
       "    </tr>\n",
       "    <tr>\n",
       "      <th>5</th>\n",
       "      <td>9.0</td>\n",
       "      <td>13.0</td>\n",
       "      <td>14.0</td>\n",
       "      <td>9.0</td>\n",
       "      <td>NaN</td>\n",
       "      <td>16.0</td>\n",
       "      <td>12.0</td>\n",
       "      <td>9.0</td>\n",
       "      <td>8.0</td>\n",
       "      <td>19.0</td>\n",
       "    </tr>\n",
       "    <tr>\n",
       "      <th>6</th>\n",
       "      <td>6.0</td>\n",
       "      <td>9.0</td>\n",
       "      <td>18.0</td>\n",
       "      <td>15.0</td>\n",
       "      <td>NaN</td>\n",
       "      <td>12.0</td>\n",
       "      <td>NaN</td>\n",
       "      <td>NaN</td>\n",
       "      <td>NaN</td>\n",
       "      <td>NaN</td>\n",
       "    </tr>\n",
       "    <tr>\n",
       "      <th>7</th>\n",
       "      <td>NaN</td>\n",
       "      <td>8.0</td>\n",
       "      <td>16.0</td>\n",
       "      <td>NaN</td>\n",
       "      <td>NaN</td>\n",
       "      <td>11.0</td>\n",
       "      <td>NaN</td>\n",
       "      <td>19.0</td>\n",
       "      <td>9.0</td>\n",
       "      <td>NaN</td>\n",
       "    </tr>\n",
       "    <tr>\n",
       "      <th>8</th>\n",
       "      <td>NaN</td>\n",
       "      <td>6.0</td>\n",
       "      <td>15.0</td>\n",
       "      <td>10.0</td>\n",
       "      <td>12.0</td>\n",
       "      <td>7.0</td>\n",
       "      <td>10.0</td>\n",
       "      <td>NaN</td>\n",
       "      <td>13.0</td>\n",
       "      <td>15.0</td>\n",
       "    </tr>\n",
       "    <tr>\n",
       "      <th>9</th>\n",
       "      <td>NaN</td>\n",
       "      <td>6.0</td>\n",
       "      <td>NaN</td>\n",
       "      <td>20.0</td>\n",
       "      <td>15.0</td>\n",
       "      <td>NaN</td>\n",
       "      <td>8.0</td>\n",
       "      <td>NaN</td>\n",
       "      <td>19.0</td>\n",
       "      <td>18.0</td>\n",
       "    </tr>\n",
       "  </tbody>\n",
       "</table>\n",
       "</div>"
      ],
      "text/plain": [
       "      0     1     2     3     4     5     6     7     8     9\n",
       "0  13.0  10.0   NaN   7.0  15.0  18.0   7.0  20.0   NaN   9.0\n",
       "1  19.0   NaN  12.0  10.0   NaN   NaN  10.0   NaN  16.0  14.0\n",
       "2  20.0  16.0   NaN  13.0   NaN  13.0   6.0   NaN   NaN   9.0\n",
       "3  15.0  20.0   NaN  14.0   7.0  12.0   6.0   NaN  13.0   NaN\n",
       "4  11.0  11.0   NaN  19.0   NaN   8.0  11.0  18.0  16.0  16.0\n",
       "5   9.0  13.0  14.0   9.0   NaN  16.0  12.0   9.0   8.0  19.0\n",
       "6   6.0   9.0  18.0  15.0   NaN  12.0   NaN   NaN   NaN   NaN\n",
       "7   NaN   8.0  16.0   NaN   NaN  11.0   NaN  19.0   9.0   NaN\n",
       "8   NaN   6.0  15.0  10.0  12.0   7.0  10.0   NaN  13.0  15.0\n",
       "9   NaN   6.0   NaN  20.0  15.0   NaN   8.0   NaN  19.0  18.0"
      ]
     },
     "metadata": {},
     "output_type": "display_data"
    },
    {
     "name": "stdout",
     "output_type": "stream",
     "text": [
      "Se registran un total de 2 NaN en la fila 1\n",
      "Se registran un total de 4 NaN en la fila 2\n",
      "Se registran un total de 4 NaN en la fila 3\n",
      "Se registran un total de 3 NaN en la fila 4\n",
      "Se registran un total de 2 NaN en la fila 5\n",
      "Se registran un total de 1 NaN en la fila 6\n",
      "Se registran un total de 5 NaN en la fila 7\n",
      "Se registran un total de 5 NaN en la fila 8\n",
      "Se registran un total de 2 NaN en la fila 9\n",
      "Se registran un total de 4 NaN en la fila 10\n"
     ]
    }
   ],
   "source": [
    "rand_matrix = np.random.randint(0,21, size=(10,10))\n",
    "print(f'Matriz de ejemplo: \\n {rand_matrix} \\n')\n",
    "\n",
    "df = pd.DataFrame(data=rand_matrix)\n",
    "display(df)\n",
    "\n",
    "print('Cambiando valores menores a 5 por valores null')\n",
    "df.where(df>5, np.nan, inplace=True)\n",
    "display(df)\n",
    "\n",
    "for i in range(10):\n",
    "    print(f\"Se registran un total de {df.isna().sum(axis=1)[i]} NaN en la fila {i+1}\")"
   ]
  },
  {
   "cell_type": "markdown",
   "id": "af5f5b2d",
   "metadata": {
    "papermill": {
     "duration": 0.009056,
     "end_time": "2024-06-26T17:10:21.610141",
     "exception": false,
     "start_time": "2024-06-26T17:10:21.601085",
     "status": "completed"
    },
    "tags": []
   },
   "source": [
    "### Analysing students scores with pandas"
   ]
  },
  {
   "cell_type": "code",
   "execution_count": 8,
   "id": "737e91ba",
   "metadata": {
    "execution": {
     "iopub.execute_input": "2024-06-26T17:10:21.631114Z",
     "iopub.status.busy": "2024-06-26T17:10:21.630245Z",
     "iopub.status.idle": "2024-06-26T17:10:21.639106Z",
     "shell.execute_reply": "2024-06-26T17:10:21.638028Z"
    },
    "papermill": {
     "duration": 0.022087,
     "end_time": "2024-06-26T17:10:21.641574",
     "exception": false,
     "start_time": "2024-06-26T17:10:21.619487",
     "status": "completed"
    },
    "tags": []
   },
   "outputs": [],
   "source": [
    "students = {'StudentId': [1,2,3,4,5,6], 'Name' : ['Yael','Thomas','Paula','Orlando','Hannah','Nicole'], 'Age' : [22,31,19,44,39,51], 'Sex' : ['M', 'M', 'F', 'M', 'F', 'F']}\n",
    "subjects = {'SubjectId': [1,2,3], 'Name': ['Python', 'Math', 'DeepLearning'], 'Semester': [1, 1, 2]}\n",
    "marks = {'StudentId' : [2,2,1,3,6,4,4,3,2,5], 'SubjectId' : [1,3,1,2,1,2,3,1,2,1], 'Mark': [6,5,8,3,5,2,7,2,4,6]}"
   ]
  },
  {
   "cell_type": "code",
   "execution_count": 9,
   "id": "bee33245",
   "metadata": {
    "execution": {
     "iopub.execute_input": "2024-06-26T17:10:21.663325Z",
     "iopub.status.busy": "2024-06-26T17:10:21.662896Z",
     "iopub.status.idle": "2024-06-26T17:10:21.691064Z",
     "shell.execute_reply": "2024-06-26T17:10:21.689793Z"
    },
    "papermill": {
     "duration": 0.042268,
     "end_time": "2024-06-26T17:10:21.693679",
     "exception": false,
     "start_time": "2024-06-26T17:10:21.651411",
     "status": "completed"
    },
    "tags": []
   },
   "outputs": [
    {
     "data": {
      "text/html": [
       "<div>\n",
       "<style scoped>\n",
       "    .dataframe tbody tr th:only-of-type {\n",
       "        vertical-align: middle;\n",
       "    }\n",
       "\n",
       "    .dataframe tbody tr th {\n",
       "        vertical-align: top;\n",
       "    }\n",
       "\n",
       "    .dataframe thead th {\n",
       "        text-align: right;\n",
       "    }\n",
       "</style>\n",
       "<table border=\"1\" class=\"dataframe\">\n",
       "  <thead>\n",
       "    <tr style=\"text-align: right;\">\n",
       "      <th></th>\n",
       "      <th>StudentId</th>\n",
       "      <th>Name</th>\n",
       "      <th>Age</th>\n",
       "      <th>Sex</th>\n",
       "    </tr>\n",
       "  </thead>\n",
       "  <tbody>\n",
       "    <tr>\n",
       "      <th>0</th>\n",
       "      <td>1</td>\n",
       "      <td>Yael</td>\n",
       "      <td>22</td>\n",
       "      <td>M</td>\n",
       "    </tr>\n",
       "    <tr>\n",
       "      <th>1</th>\n",
       "      <td>2</td>\n",
       "      <td>Thomas</td>\n",
       "      <td>31</td>\n",
       "      <td>M</td>\n",
       "    </tr>\n",
       "    <tr>\n",
       "      <th>2</th>\n",
       "      <td>3</td>\n",
       "      <td>Paula</td>\n",
       "      <td>19</td>\n",
       "      <td>F</td>\n",
       "    </tr>\n",
       "    <tr>\n",
       "      <th>3</th>\n",
       "      <td>4</td>\n",
       "      <td>Orlando</td>\n",
       "      <td>44</td>\n",
       "      <td>M</td>\n",
       "    </tr>\n",
       "    <tr>\n",
       "      <th>4</th>\n",
       "      <td>5</td>\n",
       "      <td>Hannah</td>\n",
       "      <td>39</td>\n",
       "      <td>F</td>\n",
       "    </tr>\n",
       "    <tr>\n",
       "      <th>5</th>\n",
       "      <td>6</td>\n",
       "      <td>Nicole</td>\n",
       "      <td>51</td>\n",
       "      <td>F</td>\n",
       "    </tr>\n",
       "  </tbody>\n",
       "</table>\n",
       "</div>"
      ],
      "text/plain": [
       "   StudentId     Name  Age Sex\n",
       "0          1     Yael   22   M\n",
       "1          2   Thomas   31   M\n",
       "2          3    Paula   19   F\n",
       "3          4  Orlando   44   M\n",
       "4          5   Hannah   39   F\n",
       "5          6   Nicole   51   F"
      ]
     },
     "metadata": {},
     "output_type": "display_data"
    },
    {
     "data": {
      "text/html": [
       "<div>\n",
       "<style scoped>\n",
       "    .dataframe tbody tr th:only-of-type {\n",
       "        vertical-align: middle;\n",
       "    }\n",
       "\n",
       "    .dataframe tbody tr th {\n",
       "        vertical-align: top;\n",
       "    }\n",
       "\n",
       "    .dataframe thead th {\n",
       "        text-align: right;\n",
       "    }\n",
       "</style>\n",
       "<table border=\"1\" class=\"dataframe\">\n",
       "  <thead>\n",
       "    <tr style=\"text-align: right;\">\n",
       "      <th></th>\n",
       "      <th>SubjectId</th>\n",
       "      <th>Name</th>\n",
       "      <th>Semester</th>\n",
       "    </tr>\n",
       "  </thead>\n",
       "  <tbody>\n",
       "    <tr>\n",
       "      <th>0</th>\n",
       "      <td>1</td>\n",
       "      <td>Python</td>\n",
       "      <td>1</td>\n",
       "    </tr>\n",
       "    <tr>\n",
       "      <th>1</th>\n",
       "      <td>2</td>\n",
       "      <td>Math</td>\n",
       "      <td>1</td>\n",
       "    </tr>\n",
       "    <tr>\n",
       "      <th>2</th>\n",
       "      <td>3</td>\n",
       "      <td>DeepLearning</td>\n",
       "      <td>2</td>\n",
       "    </tr>\n",
       "  </tbody>\n",
       "</table>\n",
       "</div>"
      ],
      "text/plain": [
       "   SubjectId          Name  Semester\n",
       "0          1        Python         1\n",
       "1          2          Math         1\n",
       "2          3  DeepLearning         2"
      ]
     },
     "metadata": {},
     "output_type": "display_data"
    },
    {
     "data": {
      "text/html": [
       "<div>\n",
       "<style scoped>\n",
       "    .dataframe tbody tr th:only-of-type {\n",
       "        vertical-align: middle;\n",
       "    }\n",
       "\n",
       "    .dataframe tbody tr th {\n",
       "        vertical-align: top;\n",
       "    }\n",
       "\n",
       "    .dataframe thead th {\n",
       "        text-align: right;\n",
       "    }\n",
       "</style>\n",
       "<table border=\"1\" class=\"dataframe\">\n",
       "  <thead>\n",
       "    <tr style=\"text-align: right;\">\n",
       "      <th></th>\n",
       "      <th>StudentId</th>\n",
       "      <th>SubjectId</th>\n",
       "      <th>Mark</th>\n",
       "    </tr>\n",
       "  </thead>\n",
       "  <tbody>\n",
       "    <tr>\n",
       "      <th>0</th>\n",
       "      <td>2</td>\n",
       "      <td>1</td>\n",
       "      <td>6</td>\n",
       "    </tr>\n",
       "    <tr>\n",
       "      <th>1</th>\n",
       "      <td>2</td>\n",
       "      <td>3</td>\n",
       "      <td>5</td>\n",
       "    </tr>\n",
       "    <tr>\n",
       "      <th>2</th>\n",
       "      <td>1</td>\n",
       "      <td>1</td>\n",
       "      <td>8</td>\n",
       "    </tr>\n",
       "    <tr>\n",
       "      <th>3</th>\n",
       "      <td>3</td>\n",
       "      <td>2</td>\n",
       "      <td>3</td>\n",
       "    </tr>\n",
       "    <tr>\n",
       "      <th>4</th>\n",
       "      <td>6</td>\n",
       "      <td>1</td>\n",
       "      <td>5</td>\n",
       "    </tr>\n",
       "    <tr>\n",
       "      <th>5</th>\n",
       "      <td>4</td>\n",
       "      <td>2</td>\n",
       "      <td>2</td>\n",
       "    </tr>\n",
       "    <tr>\n",
       "      <th>6</th>\n",
       "      <td>4</td>\n",
       "      <td>3</td>\n",
       "      <td>7</td>\n",
       "    </tr>\n",
       "    <tr>\n",
       "      <th>7</th>\n",
       "      <td>3</td>\n",
       "      <td>1</td>\n",
       "      <td>2</td>\n",
       "    </tr>\n",
       "    <tr>\n",
       "      <th>8</th>\n",
       "      <td>2</td>\n",
       "      <td>2</td>\n",
       "      <td>4</td>\n",
       "    </tr>\n",
       "    <tr>\n",
       "      <th>9</th>\n",
       "      <td>5</td>\n",
       "      <td>1</td>\n",
       "      <td>6</td>\n",
       "    </tr>\n",
       "  </tbody>\n",
       "</table>\n",
       "</div>"
      ],
      "text/plain": [
       "   StudentId  SubjectId  Mark\n",
       "0          2          1     6\n",
       "1          2          3     5\n",
       "2          1          1     8\n",
       "3          3          2     3\n",
       "4          6          1     5\n",
       "5          4          2     2\n",
       "6          4          3     7\n",
       "7          3          1     2\n",
       "8          2          2     4\n",
       "9          5          1     6"
      ]
     },
     "metadata": {},
     "output_type": "display_data"
    }
   ],
   "source": [
    "df_students = pd.DataFrame(data=students)\n",
    "df_subjects = pd.DataFrame(data=subjects)\n",
    "df_marks = pd.DataFrame(data=marks)\n",
    "\n",
    "display(df_students)\n",
    "display(df_subjects)\n",
    "display(df_marks)"
   ]
  },
  {
   "cell_type": "code",
   "execution_count": 10,
   "id": "d782fb20",
   "metadata": {
    "execution": {
     "iopub.execute_input": "2024-06-26T17:10:21.715243Z",
     "iopub.status.busy": "2024-06-26T17:10:21.714820Z",
     "iopub.status.idle": "2024-06-26T17:10:21.728998Z",
     "shell.execute_reply": "2024-06-26T17:10:21.727787Z"
    },
    "papermill": {
     "duration": 0.028174,
     "end_time": "2024-06-26T17:10:21.731759",
     "exception": false,
     "start_time": "2024-06-26T17:10:21.703585",
     "status": "completed"
    },
    "tags": []
   },
   "outputs": [
    {
     "name": "stdout",
     "output_type": "stream",
     "text": [
      "El alumno Yael obtuvó la nota más alta (8) del grupo, el curso correspondiente fue Python.\n"
     ]
    }
   ],
   "source": [
    "max_mark = df_marks.iloc[df_marks['Mark'].idxmax()]\n",
    "student_max_mark = df_students.loc[df_students['StudentId']==max_mark['StudentId']]['Name'][0]\n",
    "subject_max_mark = df_subjects.loc[df_subjects['SubjectId']==max_mark['SubjectId']]['Name'][0]\n",
    "\n",
    "print(f'El alumno {student_max_mark} obtuvó la nota más alta ({max_mark[\"Mark\"]}) del grupo, el curso correspondiente fue {subject_max_mark}.')"
   ]
  },
  {
   "cell_type": "code",
   "execution_count": 11,
   "id": "6a86a73b",
   "metadata": {
    "execution": {
     "iopub.execute_input": "2024-06-26T17:10:21.754461Z",
     "iopub.status.busy": "2024-06-26T17:10:21.754019Z",
     "iopub.status.idle": "2024-06-26T17:10:21.766081Z",
     "shell.execute_reply": "2024-06-26T17:10:21.764837Z"
    },
    "papermill": {
     "duration": 0.026604,
     "end_time": "2024-06-26T17:10:21.768956",
     "exception": false,
     "start_time": "2024-06-26T17:10:21.742352",
     "status": "completed"
    },
    "tags": []
   },
   "outputs": [
    {
     "name": "stdout",
     "output_type": "stream",
     "text": [
      "Durante el primer semestre se registraron 4 alumnos suspendidos\n"
     ]
    }
   ],
   "source": [
    "subjectids_in_1stsemester = df_subjects[df_subjects['Semester']==1]\n",
    "suspended_marks = df_marks[df_marks['Mark']<5]\n",
    "suspended_first_semester = suspended_marks[suspended_marks['SubjectId'].isin(subjectids_in_1stsemester['SubjectId'])]\n",
    "\n",
    "\n",
    "print(f'Durante el primer semestre se registraron {len(suspended_first_semester)} alumnos suspendidos')"
   ]
  },
  {
   "cell_type": "code",
   "execution_count": 12,
   "id": "0a9a47a6",
   "metadata": {
    "execution": {
     "iopub.execute_input": "2024-06-26T17:10:21.791595Z",
     "iopub.status.busy": "2024-06-26T17:10:21.791161Z",
     "iopub.status.idle": "2024-06-26T17:10:21.800988Z",
     "shell.execute_reply": "2024-06-26T17:10:21.799666Z"
    },
    "papermill": {
     "duration": 0.024616,
     "end_time": "2024-06-26T17:10:21.804113",
     "exception": false,
     "start_time": "2024-06-26T17:10:21.779497",
     "status": "completed"
    },
    "tags": []
   },
   "outputs": [
    {
     "name": "stdout",
     "output_type": "stream",
     "text": [
      "La edad promedio de los asistentes a Python es 32.4\n"
     ]
    }
   ],
   "source": [
    "subjectid_for_python = df_subjects[df_subjects['Name']=='Python']\n",
    "studentsid_in_python = df_marks.loc[df_marks['SubjectId'] == subjectid_for_python['SubjectId'][0]]\n",
    "students_in_python = df_students.loc[df_students['StudentId'].isin(studentsid_in_python['StudentId'])]\n",
    "print(f'La edad promedio de los asistentes a Python es {students_in_python[\"Age\"].mean()}')"
   ]
  },
  {
   "cell_type": "markdown",
   "id": "52feecee",
   "metadata": {
    "papermill": {
     "duration": 0.010191,
     "end_time": "2024-06-26T17:10:21.824627",
     "exception": false,
     "start_time": "2024-06-26T17:10:21.814436",
     "status": "completed"
    },
    "tags": []
   },
   "source": [
    "##### Form a word with the initials of the students' names sorted by age."
   ]
  },
  {
   "cell_type": "code",
   "execution_count": 13,
   "id": "90c6e17f",
   "metadata": {
    "execution": {
     "iopub.execute_input": "2024-06-26T17:10:21.848010Z",
     "iopub.status.busy": "2024-06-26T17:10:21.846972Z",
     "iopub.status.idle": "2024-06-26T17:10:21.857606Z",
     "shell.execute_reply": "2024-06-26T17:10:21.856472Z"
    },
    "papermill": {
     "duration": 0.025427,
     "end_time": "2024-06-26T17:10:21.860415",
     "exception": false,
     "start_time": "2024-06-26T17:10:21.834988",
     "status": "completed"
    },
    "tags": []
   },
   "outputs": [
    {
     "name": "stdout",
     "output_type": "stream",
     "text": [
      "La palabra formada con las iniciales es: PYTHON\n"
     ]
    }
   ],
   "source": [
    "df_students_sorted = df_students.sort_values(by='Age')\n",
    "word_in_tuple = tuple(df_students_sorted['Name'].map(lambda x: x[0]))\n",
    "print(f'La palabra formada con las iniciales es: {\"\".join(word_in_tuple)}')"
   ]
  },
  {
   "cell_type": "markdown",
   "id": "e9007dd5",
   "metadata": {
    "papermill": {
     "duration": 0.010576,
     "end_time": "2024-06-26T17:10:21.881451",
     "exception": false,
     "start_time": "2024-06-26T17:10:21.870875",
     "status": "completed"
    },
    "tags": []
   },
   "source": [
    "##### Adding some graphs"
   ]
  },
  {
   "cell_type": "code",
   "execution_count": 14,
   "id": "910e0302",
   "metadata": {
    "execution": {
     "iopub.execute_input": "2024-06-26T17:10:21.904182Z",
     "iopub.status.busy": "2024-06-26T17:10:21.903735Z",
     "iopub.status.idle": "2024-06-26T17:10:22.455262Z",
     "shell.execute_reply": "2024-06-26T17:10:22.454098Z"
    },
    "papermill": {
     "duration": 0.565889,
     "end_time": "2024-06-26T17:10:22.457784",
     "exception": false,
     "start_time": "2024-06-26T17:10:21.891895",
     "status": "completed"
    },
    "tags": []
   },
   "outputs": [
    {
     "data": {
      "text/html": [
       "<div>\n",
       "<style scoped>\n",
       "    .dataframe tbody tr th:only-of-type {\n",
       "        vertical-align: middle;\n",
       "    }\n",
       "\n",
       "    .dataframe tbody tr th {\n",
       "        vertical-align: top;\n",
       "    }\n",
       "\n",
       "    .dataframe thead th {\n",
       "        text-align: right;\n",
       "    }\n",
       "</style>\n",
       "<table border=\"1\" class=\"dataframe\">\n",
       "  <thead>\n",
       "    <tr style=\"text-align: right;\">\n",
       "      <th></th>\n",
       "      <th>StudentId</th>\n",
       "      <th>SubjectId</th>\n",
       "      <th>Mark</th>\n",
       "      <th>StudentSex</th>\n",
       "      <th>SubjectName</th>\n",
       "    </tr>\n",
       "  </thead>\n",
       "  <tbody>\n",
       "    <tr>\n",
       "      <th>0</th>\n",
       "      <td>2</td>\n",
       "      <td>1</td>\n",
       "      <td>6</td>\n",
       "      <td>M</td>\n",
       "      <td>Python</td>\n",
       "    </tr>\n",
       "    <tr>\n",
       "      <th>1</th>\n",
       "      <td>2</td>\n",
       "      <td>3</td>\n",
       "      <td>5</td>\n",
       "      <td>M</td>\n",
       "      <td>DeepLearning</td>\n",
       "    </tr>\n",
       "    <tr>\n",
       "      <th>2</th>\n",
       "      <td>1</td>\n",
       "      <td>1</td>\n",
       "      <td>8</td>\n",
       "      <td>M</td>\n",
       "      <td>Python</td>\n",
       "    </tr>\n",
       "    <tr>\n",
       "      <th>3</th>\n",
       "      <td>3</td>\n",
       "      <td>2</td>\n",
       "      <td>3</td>\n",
       "      <td>F</td>\n",
       "      <td>Math</td>\n",
       "    </tr>\n",
       "    <tr>\n",
       "      <th>4</th>\n",
       "      <td>6</td>\n",
       "      <td>1</td>\n",
       "      <td>5</td>\n",
       "      <td>F</td>\n",
       "      <td>Python</td>\n",
       "    </tr>\n",
       "    <tr>\n",
       "      <th>5</th>\n",
       "      <td>4</td>\n",
       "      <td>2</td>\n",
       "      <td>2</td>\n",
       "      <td>M</td>\n",
       "      <td>Math</td>\n",
       "    </tr>\n",
       "    <tr>\n",
       "      <th>6</th>\n",
       "      <td>4</td>\n",
       "      <td>3</td>\n",
       "      <td>7</td>\n",
       "      <td>M</td>\n",
       "      <td>DeepLearning</td>\n",
       "    </tr>\n",
       "    <tr>\n",
       "      <th>7</th>\n",
       "      <td>3</td>\n",
       "      <td>1</td>\n",
       "      <td>2</td>\n",
       "      <td>F</td>\n",
       "      <td>Python</td>\n",
       "    </tr>\n",
       "    <tr>\n",
       "      <th>8</th>\n",
       "      <td>2</td>\n",
       "      <td>2</td>\n",
       "      <td>4</td>\n",
       "      <td>M</td>\n",
       "      <td>Math</td>\n",
       "    </tr>\n",
       "    <tr>\n",
       "      <th>9</th>\n",
       "      <td>5</td>\n",
       "      <td>1</td>\n",
       "      <td>6</td>\n",
       "      <td>F</td>\n",
       "      <td>Python</td>\n",
       "    </tr>\n",
       "  </tbody>\n",
       "</table>\n",
       "</div>"
      ],
      "text/plain": [
       "   StudentId  SubjectId  Mark StudentSex   SubjectName\n",
       "0          2          1     6          M        Python\n",
       "1          2          3     5          M  DeepLearning\n",
       "2          1          1     8          M        Python\n",
       "3          3          2     3          F          Math\n",
       "4          6          1     5          F        Python\n",
       "5          4          2     2          M          Math\n",
       "6          4          3     7          M  DeepLearning\n",
       "7          3          1     2          F        Python\n",
       "8          2          2     4          M          Math\n",
       "9          5          1     6          F        Python"
      ]
     },
     "metadata": {},
     "output_type": "display_data"
    },
    {
     "data": {
      "image/png": "[encoded data removed]",
      "text/plain": [
       "<Figure size 640x480 with 1 Axes>"
      ]
     },
     "metadata": {},
     "output_type": "display_data"
    }
   ],
   "source": [
    "df_chart_1 = df_marks.copy()\n",
    "df_chart_1['StudentSex'] = df_chart_1['StudentId'].apply(lambda x: df_students.loc[df_students['StudentId']==x, 'Sex'].values[0])\n",
    "df_chart_1['SubjectName'] = df_chart_1['SubjectId'].apply(lambda x: df_subjects.loc[df_subjects['SubjectId']==x, 'Name'].values[0])\n",
    "display(df_chart_1)\n",
    "\n",
    "sns.barplot(x='SubjectName', y='Mark', hue='StudentSex', data=df_chart_1)\n",
    "plt.show()"
   ]
  },
  {
   "cell_type": "code",
   "execution_count": 15,
   "id": "b85b1cd7",
   "metadata": {
    "execution": {
     "iopub.execute_input": "2024-06-26T17:10:22.481904Z",
     "iopub.status.busy": "2024-06-26T17:10:22.481493Z",
     "iopub.status.idle": "2024-06-26T17:10:23.132225Z",
     "shell.execute_reply": "2024-06-26T17:10:23.131024Z"
    },
    "papermill": {
     "duration": 0.666098,
     "end_time": "2024-06-26T17:10:23.134981",
     "exception": false,
     "start_time": "2024-06-26T17:10:22.468883",
     "status": "completed"
    },
    "tags": []
   },
   "outputs": [
    {
     "data": {
      "text/html": [
       "<div>\n",
       "<style scoped>\n",
       "    .dataframe tbody tr th:only-of-type {\n",
       "        vertical-align: middle;\n",
       "    }\n",
       "\n",
       "    .dataframe tbody tr th {\n",
       "        vertical-align: top;\n",
       "    }\n",
       "\n",
       "    .dataframe thead th {\n",
       "        text-align: right;\n",
       "    }\n",
       "</style>\n",
       "<table border=\"1\" class=\"dataframe\">\n",
       "  <thead>\n",
       "    <tr style=\"text-align: right;\">\n",
       "      <th></th>\n",
       "      <th>StudentId</th>\n",
       "      <th>SubjectId</th>\n",
       "      <th>Mark</th>\n",
       "      <th>StudentAge</th>\n",
       "    </tr>\n",
       "  </thead>\n",
       "  <tbody>\n",
       "    <tr>\n",
       "      <th>0</th>\n",
       "      <td>2</td>\n",
       "      <td>1</td>\n",
       "      <td>6</td>\n",
       "      <td>31</td>\n",
       "    </tr>\n",
       "    <tr>\n",
       "      <th>1</th>\n",
       "      <td>2</td>\n",
       "      <td>3</td>\n",
       "      <td>5</td>\n",
       "      <td>31</td>\n",
       "    </tr>\n",
       "    <tr>\n",
       "      <th>2</th>\n",
       "      <td>1</td>\n",
       "      <td>1</td>\n",
       "      <td>8</td>\n",
       "      <td>22</td>\n",
       "    </tr>\n",
       "    <tr>\n",
       "      <th>3</th>\n",
       "      <td>3</td>\n",
       "      <td>2</td>\n",
       "      <td>3</td>\n",
       "      <td>19</td>\n",
       "    </tr>\n",
       "    <tr>\n",
       "      <th>4</th>\n",
       "      <td>6</td>\n",
       "      <td>1</td>\n",
       "      <td>5</td>\n",
       "      <td>51</td>\n",
       "    </tr>\n",
       "    <tr>\n",
       "      <th>5</th>\n",
       "      <td>4</td>\n",
       "      <td>2</td>\n",
       "      <td>2</td>\n",
       "      <td>44</td>\n",
       "    </tr>\n",
       "    <tr>\n",
       "      <th>6</th>\n",
       "      <td>4</td>\n",
       "      <td>3</td>\n",
       "      <td>7</td>\n",
       "      <td>44</td>\n",
       "    </tr>\n",
       "    <tr>\n",
       "      <th>7</th>\n",
       "      <td>3</td>\n",
       "      <td>1</td>\n",
       "      <td>2</td>\n",
       "      <td>19</td>\n",
       "    </tr>\n",
       "    <tr>\n",
       "      <th>8</th>\n",
       "      <td>2</td>\n",
       "      <td>2</td>\n",
       "      <td>4</td>\n",
       "      <td>31</td>\n",
       "    </tr>\n",
       "    <tr>\n",
       "      <th>9</th>\n",
       "      <td>5</td>\n",
       "      <td>1</td>\n",
       "      <td>6</td>\n",
       "      <td>39</td>\n",
       "    </tr>\n",
       "  </tbody>\n",
       "</table>\n",
       "</div>"
      ],
      "text/plain": [
       "   StudentId  SubjectId  Mark  StudentAge\n",
       "0          2          1     6          31\n",
       "1          2          3     5          31\n",
       "2          1          1     8          22\n",
       "3          3          2     3          19\n",
       "4          6          1     5          51\n",
       "5          4          2     2          44\n",
       "6          4          3     7          44\n",
       "7          3          1     2          19\n",
       "8          2          2     4          31\n",
       "9          5          1     6          39"
      ]
     },
     "metadata": {},
     "output_type": "display_data"
    },
    {
     "name": "stderr",
     "output_type": "stream",
     "text": [
      "/opt/conda/lib/python3.10/site-packages/seaborn/_oldcore.py:1119: FutureWarning: use_inf_as_na option is deprecated and will be removed in a future version. Convert inf values to NaN before operating instead.\n",
      "  with pd.option_context('mode.use_inf_as_na', True):\n",
      "/opt/conda/lib/python3.10/site-packages/seaborn/_oldcore.py:1119: FutureWarning: use_inf_as_na option is deprecated and will be removed in a future version. Convert inf values to NaN before operating instead.\n",
      "  with pd.option_context('mode.use_inf_as_na', True):\n"
     ]
    },
    {
     "data": {
      "image/png": "[encoded data removed]",
      "text/plain": [
       "<Figure size 600x600 with 3 Axes>"
      ]
     },
     "metadata": {},
     "output_type": "display_data"
    }
   ],
   "source": [
    "df_chart_2 = df_marks.copy()\n",
    "df_chart_2['StudentAge'] = df_chart_2['StudentId'].apply(lambda x: df_students.loc[df_students['StudentId']==x, 'Age'].values[0])\n",
    "display(df_chart_2)\n",
    "\n",
    "sns.jointplot(x='StudentAge', y='Mark', kind=\"scatter\", data=df_chart_2);\n",
    "plt.show()"
   ]
  }
 ],
 "metadata": {
  "kaggle": {
   "accelerator": "none",
   "dataSources": [
    {
     "datasetId": 5288597,
     "sourceId": 8795398,
     "sourceType": "datasetVersion"
    }
   ],
   "dockerImageVersionId": 30732,
   "isGpuEnabled": false,
   "isInternetEnabled": false,
   "language": "python",
   "sourceType": "notebook"
  },
  "kernelspec": {
   "display_name": "Python 3",
   "language": "python",
   "name": "python3"
  },
  "language_info": {
   "codemirror_mode": {
    "name": "ipython",
    "version": 3
   },
   "file_extension": ".py",
   "mimetype": "text/x-python",
   "name": "python",
   "nbconvert_exporter": "python",
   "pygments_lexer": "ipython3",
   "version": "3.10.13"
  },
  "papermill": {
   "default_parameters": {},
   "duration": 8.524299,
   "end_time": "2024-06-26T17:10:23.768338",
   "environment_variables": {},
   "exception": null,
   "input_path": "__notebook__.ipynb",
   "output_path": "__notebook__.ipynb",
   "parameters": {},
   "start_time": "2024-06-26T17:10:15.244039",
   "version": "2.5.0"
  }
 },
 "nbformat": 4,
 "nbformat_minor": 5
}
